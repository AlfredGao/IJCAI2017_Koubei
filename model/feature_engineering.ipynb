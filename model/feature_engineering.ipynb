{
 "cells": [
  {
   "cell_type": "code",
   "execution_count": null,
   "metadata": {
    "collapsed": true
   },
   "outputs": [],
   "source": [
    "# -*- coding: utf-8 -*-\n",
    "# encoding = uft-8\n",
    "import pandas as pd\n",
    "import numpy as np"
   ]
  },
  {
   "cell_type": "code",
   "execution_count": null,
   "metadata": {
    "collapsed": true
   },
   "outputs": [],
   "source": [
    "train_feature = pd.read_csv('../train/train_feature.csv')\n",
    "train_label = pd.read_csv('../train/train_label.csv')\n",
    "test_feature = pd.read_csv('../train/test_feature.csv')"
   ]
  },
  {
   "cell_type": "code",
   "execution_count": null,
   "metadata": {
    "collapsed": false
   },
   "outputs": [],
   "source": [
    "train_feature = train_feature.rename(columns = {'Unnamed: 0':'shop_id'})"
   ]
  },
  {
   "cell_type": "code",
   "execution_count": null,
   "metadata": {
    "collapsed": false
   },
   "outputs": [],
   "source": [
    "train_feature"
   ]
  },
  {
   "cell_type": "code",
   "execution_count": null,
   "metadata": {
    "collapsed": false
   },
   "outputs": [],
   "source": [
    "train_feature['week1_mean'] = train_feature.loc[:,'col_0':'col_6'].mean(axis=1)"
   ]
  },
  {
   "cell_type": "code",
   "execution_count": null,
   "metadata": {
    "collapsed": true
   },
   "outputs": [],
   "source": [
    "train_feature['week2_mean'] = train_feature.loc[:,'col_7':'col_13'].mean(axis=1)"
   ]
  },
  {
   "cell_type": "code",
   "execution_count": null,
   "metadata": {
    "collapsed": false
   },
   "outputs": [],
   "source": [
    "train_feature['week3_mean'] = train_feature.loc[:,'col_14':'col_20'].mean(axis=1)"
   ]
  },
  {
   "cell_type": "code",
   "execution_count": null,
   "metadata": {
    "collapsed": false
   },
   "outputs": [],
   "source": [
    "train_feature['shop_id'] = train_feature['shop_id']+1"
   ]
  },
  {
   "cell_type": "code",
   "execution_count": null,
   "metadata": {
    "collapsed": true
   },
   "outputs": [],
   "source": [
    "shop_info = pd.read_csv('../dataset/preprocessed/shop_info_0221.csv')"
   ]
  },
  {
   "cell_type": "code",
   "execution_count": null,
   "metadata": {
    "collapsed": false
   },
   "outputs": [],
   "source": [
    "shop_info_cat = shop_info.loc[:,'cate_1':'cate_3']\n",
    "shop_info_cat['shop_id'] = shop_info['id']\n",
    "shop_info_cat"
   ]
  },
  {
   "cell_type": "code",
   "execution_count": null,
   "metadata": {
    "collapsed": true
   },
   "outputs": [],
   "source": [
    "usr_day_pay = pd.read_csv('../dataset/preprocessed/shop_date_dapay.csv')"
   ]
  },
  {
   "cell_type": "code",
   "execution_count": null,
   "metadata": {
    "collapsed": false
   },
   "outputs": [],
   "source": [
    "usr_day_pay"
   ]
  },
  {
   "cell_type": "code",
   "execution_count": null,
   "metadata": {
    "collapsed": false
   },
   "outputs": [],
   "source": [
    "cat_statis = train_feature.merge(shop_info_cat,on='shop_id')\n",
    "cat_statis"
   ]
  },
  {
   "cell_type": "code",
   "execution_count": null,
   "metadata": {
    "collapsed": false
   },
   "outputs": [],
   "source": [
    "cat_null = cat_statis['cate_3'].isnull().nonzero()\n",
    "for index in cat_null:\n",
    "    print cat_statis['cate_2'].iloc[index]\n",
    "        "
   ]
  },
  {
   "cell_type": "code",
   "execution_count": null,
   "metadata": {
    "collapsed": false
   },
   "outputs": [],
   "source": [
    "for index in cat_null:\n",
    "    cat_statis['cate_3'].iloc[index] = cat_statis['cate_2'].iloc[index].values"
   ]
  },
  {
   "cell_type": "code",
   "execution_count": null,
   "metadata": {
    "collapsed": false
   },
   "outputs": [],
   "source": [
    "cate3_list = cat_statis['cate_3'].value_counts()"
   ]
  },
  {
   "cell_type": "code",
   "execution_count": null,
   "metadata": {
    "collapsed": false
   },
   "outputs": [],
   "source": [
    "names = list(cat_statis.loc[:,'col_0':'col_20'].columns) + ['cate_3']"
   ]
  },
  {
   "cell_type": "code",
   "execution_count": null,
   "metadata": {
    "collapsed": false
   },
   "outputs": [],
   "source": [
    "train_three_week = cat_statis[names]"
   ]
  },
  {
   "cell_type": "code",
   "execution_count": null,
   "metadata": {
    "collapsed": false
   },
   "outputs": [],
   "source": [
    "cat_mean = train_three_week.groupby('cate_3').mean()\n",
    "cat_mean"
   ]
  },
  {
   "cell_type": "code",
   "execution_count": null,
   "metadata": {
    "collapsed": false
   },
   "outputs": [],
   "source": [
    "cate3_list"
   ]
  },
  {
   "cell_type": "code",
   "execution_count": null,
   "metadata": {
    "collapsed": false
   },
   "outputs": [],
   "source": [
    "cat_mean_week1 = cat_mean.loc[:,'col_0':'col_6'].mean(axis=1).to_dict()\n",
    "cat_mean_week2 = cat_mean.loc[:,'col_7':'col_13'].mean(axis=1).to_dict()\n",
    "cat_mean_week3 = cat_mean.loc[:,'col_14':'col_20'].mean(axis=1).to_dict()"
   ]
  },
  {
   "cell_type": "code",
   "execution_count": null,
   "metadata": {
    "collapsed": false
   },
   "outputs": [],
   "source": [
    "cat_mean_week1"
   ]
  },
  {
   "cell_type": "code",
   "execution_count": null,
   "metadata": {
    "collapsed": false
   },
   "outputs": [],
   "source": [
    "train_feature['cate_3_week1_mean'] = 0\n",
    "train_feature['cate_3_week2_mean'] = 0\n",
    "train_feature['cate_3_week3_mean'] = 0\n",
    "train_feature"
   ]
  },
  {
   "cell_type": "code",
   "execution_count": null,
   "metadata": {
    "collapsed": false
   },
   "outputs": [],
   "source": [
    "cat_mean_week1[cat_statis['cate_3'].iloc[1]]"
   ]
  },
  {
   "cell_type": "code",
   "execution_count": null,
   "metadata": {
    "collapsed": true
   },
   "outputs": [],
   "source": [
    "for index in range(2000):\n",
    "    train_feature['cate_3_week1_mean'].iloc[index] = cat_mean_week1[cat_statis['cate_3'].iloc[index]]"
   ]
  },
  {
   "cell_type": "code",
   "execution_count": null,
   "metadata": {
    "collapsed": false
   },
   "outputs": [],
   "source": [
    "train_feature"
   ]
  },
  {
   "cell_type": "code",
   "execution_count": null,
   "metadata": {
    "collapsed": true
   },
   "outputs": [],
   "source": [
    "for index in range(2000):\n",
    "    train_feature['cate_3_week2_mean'].iloc[index] = cat_mean_week2[cat_statis['cate_3'].iloc[index]]\n",
    "for index in range(2000):\n",
    "    train_feature['cate_3_week3_mean'].iloc[index] = cat_mean_week3[cat_statis['cate_3'].iloc[index]]   "
   ]
  },
  {
   "cell_type": "code",
   "execution_count": null,
   "metadata": {
    "collapsed": false
   },
   "outputs": [],
   "source": [
    "train_feature.to_csv('train_feature_0222.csv')"
   ]
  },
  {
   "cell_type": "code",
   "execution_count": null,
   "metadata": {
    "collapsed": false
   },
   "outputs": [],
   "source": [
    "test_feature = pd.read_csv('../train/test_feature.csv')\n",
    "test_feature"
   ]
  },
  {
   "cell_type": "code",
   "execution_count": null,
   "metadata": {
    "collapsed": true
   },
   "outputs": [],
   "source": [
    "test_feature['week1_mean'] = test_feature.loc[:,'col_0':'col_6'].mean(axis=1)\n",
    "test_feature['week2_mean'] = test_feature.loc[:,'col_7':'col_13'].mean(axis=1)\n",
    "test_feature['week3_mean'] = test_feature.loc[:,'col_14':'col_20'].mean(axis=1)"
   ]
  },
  {
   "cell_type": "code",
   "execution_count": null,
   "metadata": {
    "collapsed": false
   },
   "outputs": [],
   "source": [
    "test_feature"
   ]
  },
  {
   "cell_type": "code",
   "execution_count": null,
   "metadata": {
    "collapsed": false
   },
   "outputs": [],
   "source": [
    "test_feature = test_feature.rename(columns = {'Unnamed: 0':'shop_id'})\n",
    "test_feature"
   ]
  },
  {
   "cell_type": "code",
   "execution_count": null,
   "metadata": {
    "collapsed": false
   },
   "outputs": [],
   "source": [
    "test_feature['shop_id'] = test_feature['shop_id']+1\n",
    "test_feature"
   ]
  },
  {
   "cell_type": "code",
   "execution_count": null,
   "metadata": {
    "collapsed": false
   },
   "outputs": [],
   "source": [
    "usr_day_pay = pd.read_csv('../dataset/preprocessed/shop_date_dapay.csv')\n",
    "usr_day_pay"
   ]
  },
  {
   "cell_type": "code",
   "execution_count": null,
   "metadata": {
    "collapsed": true
   },
   "outputs": [],
   "source": [
    "cat_statis_test = test_feature.merge(shop_info_cat,on='shop_id')"
   ]
  },
  {
   "cell_type": "code",
   "execution_count": null,
   "metadata": {
    "collapsed": false
   },
   "outputs": [],
   "source": [
    "cat_statis_test"
   ]
  },
  {
   "cell_type": "code",
   "execution_count": null,
   "metadata": {
    "collapsed": false
   },
   "outputs": [],
   "source": [
    "cat_null_test = cat_statis_test['cate_3'].isnull().nonzero()\n",
    "for index in cat_null:\n",
    "    cat_statis_test['cate_3'].iloc[index] = cat_statis_test['cate_2'].iloc[index].values"
   ]
  },
  {
   "cell_type": "code",
   "execution_count": null,
   "metadata": {
    "collapsed": false
   },
   "outputs": [],
   "source": [
    "names_test = list(cat_statis_test.loc[:,'col_0':'col_20'].columns) + ['cate_3']\n",
    "names_test"
   ]
  },
  {
   "cell_type": "code",
   "execution_count": null,
   "metadata": {
    "collapsed": true
   },
   "outputs": [],
   "source": [
    "test_three_week = cat_statis_test[names]"
   ]
  },
  {
   "cell_type": "code",
   "execution_count": null,
   "metadata": {
    "collapsed": false
   },
   "outputs": [],
   "source": [
    "cat_mean_test = test_three_week.groupby('cate_3').mean()\n",
    "cat_mean_test"
   ]
  },
  {
   "cell_type": "code",
   "execution_count": null,
   "metadata": {
    "collapsed": true
   },
   "outputs": [],
   "source": [
    "cat_mean_week1_test = cat_mean_test.loc[:,'col_0':'col_6'].mean(axis=1).to_dict()\n",
    "cat_mean_week2_test = cat_mean_test.loc[:,'col_7':'col_13'].mean(axis=1).to_dict()\n",
    "cat_mean_week3_test = cat_mean_test.loc[:,'col_14':'col_20'].mean(axis=1).to_dict()"
   ]
  },
  {
   "cell_type": "code",
   "execution_count": null,
   "metadata": {
    "collapsed": false
   },
   "outputs": [],
   "source": [
    "test_feature['cate_3_week1_mean'] = 0\n",
    "test_feature['cate_3_week2_mean'] = 0\n",
    "test_feature['cate_3_week3_mean'] = 0\n",
    "test_feature"
   ]
  },
  {
   "cell_type": "code",
   "execution_count": null,
   "metadata": {
    "collapsed": false
   },
   "outputs": [],
   "source": [
    "for index in range(2000):\n",
    "    test_feature['cate_3_week1_mean'].iloc[index] = cat_mean_week1_test[cat_statis_test['cate_3'].iloc[index]]\n",
    "    test_feature['cate_3_week2_mean'].iloc[index] = cat_mean_week2_test[cat_statis_test['cate_3'].iloc[index]]\n",
    "    test_feature['cate_3_week3_mean'].iloc[index] = cat_mean_week3_test[cat_statis_test['cate_3'].iloc[index]]"
   ]
  },
  {
   "cell_type": "code",
   "execution_count": null,
   "metadata": {
    "collapsed": false
   },
   "outputs": [],
   "source": [
    "test_feature"
   ]
  },
  {
   "cell_type": "code",
   "execution_count": null,
   "metadata": {
    "collapsed": false
   },
   "outputs": [],
   "source": [
    "train_feature"
   ]
  },
  {
   "cell_type": "code",
   "execution_count": null,
   "metadata": {
    "collapsed": true
   },
   "outputs": [],
   "source": [
    "test_feature.to_csv('test_feature_0222.csv')"
   ]
  },
  {
   "cell_type": "code",
   "execution_count": null,
   "metadata": {
    "collapsed": false
   },
   "outputs": [],
   "source": [
    "prediction = pd.read_csv('../output/submit_170221.csv',names = ['id','d1','d2','d3','d4','d5','d6','d7','d8','d9','d10','d11','d12','d13','d14'])\n",
    "prediction"
   ]
  },
  {
   "cell_type": "code",
   "execution_count": null,
   "metadata": {
    "collapsed": false
   },
   "outputs": [],
   "source": [
    "train_feature = pd.read_csv('../train/train_feature.csv')\n",
    "train_feature"
   ]
  },
  {
   "cell_type": "code",
   "execution_count": null,
   "metadata": {
    "collapsed": false
   },
   "outputs": [],
   "source": [
    "train_feature_2 = pd.read_csv('../train/test_feature.csv')\n",
    "train_feature_2['Unnamed: 0']"
   ]
  },
  {
   "cell_type": "code",
   "execution_count": null,
   "metadata": {
    "collapsed": false
   },
   "outputs": [],
   "source": [
    "import sys\n",
    "sys.path.append('./RandomForest/')\n"
   ]
  },
  {
   "cell_type": "code",
   "execution_count": null,
   "metadata": {
    "collapsed": false
   },
   "outputs": [],
   "source": [
    "train_label = pd.read_csv('../train/train_label.csv')\n",
    "train_label"
   ]
  },
  {
   "cell_type": "code",
   "execution_count": null,
   "metadata": {
    "collapsed": false
   },
   "outputs": [],
   "source": [
    "\n",
    "para = {'n_estimators':[1200],'n_jobs':[-1],'random_state':[1],'min_samples_split':[2],\\\n",
    "                        'min_samples_leaf':[2],'max_depth':[25],'criterion':['mse'],'max_features':[237]}"
   ]
  },
  {
   "cell_type": "code",
   "execution_count": null,
   "metadata": {
    "collapsed": false
   },
   "outputs": [],
   "source": [
    "# -*- coding: utf-8 -*-\n",
    "# encoding = uft-8\n",
    "\"\"\"\n",
    "@Author: Alfred Gao\n",
    "\"\"\"\n",
    "import pandas as pd\n",
    "import numpy as np\n",
    "from sklearn.ensemble import ExtraTreesRegressor\n",
    "from sklearn.grid_search import GridSearchCV\n",
    "from sklearn.cross_validation import KFold\n",
    "from sklearn.metrics import make_scorer\n",
    "import sys\n",
    "sys.path.append('../')\n",
    "import time\n",
    "from __utils import cal_offline_score\n",
    "from __utils import get_result\n",
    "\n",
    "\n",
    "class myTreesRegressor():\n",
    "    def __init__(self):\n",
    "        self.n_estimators=0\n",
    "        self.random_state=0\n",
    "        self.n_jobs=0\n",
    "        self.min_samples_split=0\n",
    "        self.min_samples_leaf=0\n",
    "        self.max_depth=0\n",
    "        self.max_features=0\n",
    "\n",
    "    def gridSearch(self, train, train_label, para, isPath=False):\n",
    "        ExtraTree = ExtraTreesRegressor()\n",
    "        parameters = para\n",
    "        import os\n",
    "        if isPath:\n",
    "            if os.path.isfile(train) and os.path.isfile(train_label):\n",
    "                train_feature = pd.read_csv(train)\n",
    "                train_label = pd.read_csv(train_label)\n",
    "                del train_feature['Unnamed: 0']\n",
    "                del train_label['Unnamed: 0']\n",
    "        else:\n",
    "            train_feature = train\n",
    "            train_label = train_label\n",
    "            del train_feature['Unnamed: 0']\n",
    "            del train_label['id']\n",
    "\n",
    "\n",
    "        train_feature_val = train_feature.values\n",
    "        train_label_val = train_label.values\n",
    "\n",
    "        kf = KFold(len(train_feature_val),n_folds=5,shuffle=True,random_state=1)\n",
    "        loss = make_scorer(cal_offline_score,greater_is_better=False)\n",
    "        #Grid Search for the best parameters\n",
    "        self.GridSearchModel = GridSearchCV(ExtraTree,param_grid=parameters,cv=kf,scoring=loss)\n",
    "        self.GridSearchModel.fit(train_feature_val,train_label_val)\n",
    "        return self.GridSearchModel.best_params_\n",
    "\n",
    "\n",
    "    def predict(self, train_feature, train_label, predict, best_p, singleOutput = False, isPath=False):\n",
    "        import os\n",
    "        if isPath:\n",
    "            if os.path.isfile(data):\n",
    "                predict_feature = pd.read_csv(data)\n",
    "        else:\n",
    "            predict_feature = predict\n",
    "# test_feature = pd.read_csv('../../train/test_feature_0222.csv')\n",
    "#Del the 'Unnamed:0' col in three tables.\n",
    "\n",
    "        ExtraTree = ExtraTreesRegressor(n_estimators=best_p['n_estimators'],\n",
    "                                        random_state=best_p['random_state'],\n",
    "                                        n_jobs=best_p['n_jobs'],\n",
    "                                        min_samples_split=best_p['min_samples_split'],\n",
    "                                        min_samples_leaf=best_p['min_samples_leaf'],\n",
    "                                        max_depth=best_p['max_depth'],\n",
    "                                        max_features=best_p['max_features'])\n",
    "        \n",
    "        ExtraTree.fit(train_feature, train_label)\n",
    "        result = (ExtraTree.predict(test_feature)).round()\n",
    "        if not singleOutput:\n",
    "            result = get_result(result)\n",
    "            timestamp = time.strftime(\"%y%m%d\")\n",
    "            save_submit_path = '../../output/submit_' + timestamp + '.csv'\n",
    "            result.to_csv(save_submit_path,index=False,header=False)\n",
    "        result = result.astype(int)\n",
    "        return result\n",
    "\n",
    "# pre = pd.read_csv('../../output/submit_170221.csv',names=['id','d1','d2','d3','d4','d5','d6','d7','d8','d9','d10','d11','d12','d13','d14'])\n",
    "# true = pd.read_csv('../../output/submit_170222.csv',names=['id','d1','d2','d3','d4','d5','d6','d7','d8','d9','d10','d11','d12','d13','d14'])\n",
    "# true['d11'] = (true['d11']*1.2).round()\n",
    "# true = true.astype(int)\n",
    "# true.to_csv('submit_170222_double11.csv',index=False, header=False)\n",
    "# del pre['id']\n",
    "# del true['id']\n",
    "#\n",
    "# print cal_offline_score(np.array(pre), np.array(true))\n"
   ]
  },
  {
   "cell_type": "code",
   "execution_count": null,
   "metadata": {
    "collapsed": false
   },
   "outputs": [],
   "source": [
    "train_feature_2"
   ]
  },
  {
   "cell_type": "code",
   "execution_count": null,
   "metadata": {
    "collapsed": false
   },
   "outputs": [],
   "source": [
    "myET = myExtraTreesRegressor()\n",
    "best_p = myET.gridSearch(train_feature_2, prediction[['id','d1','d2','d3','d4','d5','d6','d7']],para)"
   ]
  },
  {
   "cell_type": "code",
   "execution_count": null,
   "metadata": {
    "collapsed": false
   },
   "outputs": [],
   "source": [
    "best_p\n"
   ]
  },
  {
   "cell_type": "code",
   "execution_count": null,
   "metadata": {
    "collapsed": false
   },
   "outputs": [],
   "source": [
    "from sklearn.preprocessing import PolynomialFeatures\n",
    "from __utils import *\n",
    "shop_date_pay = pd.read_csv('../dataset/preprocessed/shop_date_dapay.csv')\n",
    "shop_info = pd.read_csv('../dataset/preprocessed/shop_info_0221.csv')\n",
    "week_3 = select_days_range('2016-10-18','2016-10-24',shop_date_pay)\n",
    "week_4 = select_days_range('2016-10-25','2016-10-31',shop_date_pay)"
   ]
  },
  {
   "cell_type": "code",
   "execution_count": null,
   "metadata": {
    "collapsed": false
   },
   "outputs": [],
   "source": [
    "week_3"
   ]
  },
  {
   "cell_type": "code",
   "execution_count": null,
   "metadata": {
    "collapsed": false
   },
   "outputs": [],
   "source": [
    "week_4"
   ]
  },
  {
   "cell_type": "code",
   "execution_count": null,
   "metadata": {
    "collapsed": false
   },
   "outputs": [],
   "source": [
    "week_predict = prediction[['d1','d2','d3','d4','d5','d6','d7']]"
   ]
  },
  {
   "cell_type": "code",
   "execution_count": null,
   "metadata": {
    "collapsed": false
   },
   "outputs": [],
   "source": [
    "test_feature_raw = week_3.join(week_4.join(week_predict))\n",
    "test_feature_raw"
   ]
  },
  {
   "cell_type": "code",
   "execution_count": null,
   "metadata": {
    "collapsed": true
   },
   "outputs": [],
   "source": [
    "test_null_value = find_null(train_feature_raw)"
   ]
  },
  {
   "cell_type": "code",
   "execution_count": null,
   "metadata": {
    "collapsed": true
   },
   "outputs": [],
   "source": [
    "test_feature = smooth_null(train_null_value, train_feature_raw)"
   ]
  },
  {
   "cell_type": "code",
   "execution_count": null,
   "metadata": {
    "collapsed": false
   },
   "outputs": [],
   "source": [
    "test_null_value = find_null(train_feature_raw)\n",
    "test_null_value"
   ]
  },
  {
   "cell_type": "code",
   "execution_count": null,
   "metadata": {
    "collapsed": false
   },
   "outputs": [],
   "source": [
    "test_sum = test_feature.sum(axis=1)\n",
    "test_sum"
   ]
  },
  {
   "cell_type": "code",
   "execution_count": null,
   "metadata": {
    "collapsed": true
   },
   "outputs": [],
   "source": [
    "test_mean = test_feature.mean(axis=1)\n",
    "test_std = test_feature.std(axis=1)\n",
    "test_max = test_feature.max(axis=1)\n",
    "test_min = test_feature.min(axis=1)\n",
    "test_median = test_feature.median(axis=1)\n",
    "test_mad = test_feature.mad(axis=1)\n",
    "test_var = test_feature.var(axis=1)\n",
    "week_end = ['2016-10-22','2016-10-23','2016-10-29','2016-10-30','d5','d6']\n",
    "test_weekend_ration = test_feature[week_end].sum(axis=1)/test_sum\n",
    "test_day_pay = shop_info['per_pay']\n",
    "test_city_level = shop_info['city_level']\n",
    "poly = PolynomialFeatures(2, interaction_only = True, include_bias=False)"
   ]
  },
  {
   "cell_type": "code",
   "execution_count": null,
   "metadata": {
    "collapsed": true
   },
   "outputs": [],
   "source": [
    "test_feature = transfer_2dataframe(poly.fit_transform(test_feature))\n",
    "test_feature['sum'] = test_sum\n",
    "test_feature['mean'] = test_mean\n",
    "test_feature['var'] = test_var\n",
    "test_feature['weekend'] = test_weekend_ration\n",
    "test_feature['day_pay'] = test_day_pay\n",
    "test_feature['city_level'] = test_city_level"
   ]
  },
  {
   "cell_type": "code",
   "execution_count": null,
   "metadata": {
    "collapsed": false
   },
   "outputs": [],
   "source": [
    "test_feature"
   ]
  },
  {
   "cell_type": "code",
   "execution_count": null,
   "metadata": {
    "collapsed": false
   },
   "outputs": [],
   "source": [
    "myTree = myTreesRegressor()\n",
    "predict_1 = prediction.loc[:,'d1':'d7']\n",
    "best_p"
   ]
  },
  {
   "cell_type": "code",
   "execution_count": null,
   "metadata": {
    "collapsed": false
   },
   "outputs": [],
   "source": [
    "predict_2 = myTree.predict(train_feature_2, predict_1, test_feature, best_p, singleOutput = True, isPath=False)"
   ]
  },
  {
   "cell_type": "code",
   "execution_count": null,
   "metadata": {
    "collapsed": false
   },
   "outputs": [],
   "source": [
    "predict_2 = pd.DataFrame(predict_2)\n",
    "predict_1"
   ]
  },
  {
   "cell_type": "code",
   "execution_count": null,
   "metadata": {
    "collapsed": false
   },
   "outputs": [],
   "source": [
    "predict_final = predict_2.join(predict_1)\n",
    "np.array(predict_final).shape\n",
    "index = [x+1 for x in range(2000)]\n",
    "index\n",
    "predict_final.insert(0,'id',index)\n",
    "predict_final.to_csv('../output/submit_170223.csv',index=False,header=False)\n",
    "index"
   ]
  },
  {
   "cell_type": "code",
   "execution_count": null,
   "metadata": {
    "collapsed": false
   },
   "outputs": [],
   "source": [
    "submit = pd.read_csv('../output/submit_170221.csv',names=['1','2','3','4','5','6','7','8','9','10','11','12','13','14'])\n",
    "np.array(submit).shape\n",
    "submit"
   ]
  },
  {
   "cell_type": "code",
   "execution_count": null,
   "metadata": {
    "collapsed": false
   },
   "outputs": [],
   "source": [
    "cal_offline_score(np.array(predict_final),np.array(submit))"
   ]
  },
  {
   "cell_type": "markdown",
   "metadata": {
    "collapsed": false
   },
   "source": [
    "#23/22/17 Full data in 国庆"
   ]
  },
  {
   "cell_type": "code",
   "execution_count": null,
   "metadata": {
    "collapsed": false
   },
   "outputs": [],
   "source": [
    "import numpy as np\n",
    "import pandas as pd\n",
    "from sklearn.preprocessing import PolynomialFeatures\n",
    "from __utils import *\n",
    "\n",
    "\n",
    "shop_date_pay = pd.read_csv('../dataset/preprocessed/shop_date_dapay.csv')\n",
    "shop_info = pd.read_csv('../dataset/preprocessed/shop_info_0221.csv')\n",
    "week_1 = select_days_range('2016-09-20','2016-09-26',shop_date_pay)\n",
    "week_2 = select_days_range('2016-09-27','2016-10-03',shop_date_pay)\n",
    "week_3 = select_days_range('2016-10-04','2016-10-10',shop_date_pay)\n",
    "week_4 = select_days_range('2016-10-11','2016-10-17',shop_date_pay)\n",
    "week_5 = select_days_range('2016-10-18','2016-10-24',shop_date_pay)\n",
    "week_6 = select_days_range('2016-10-25','2016-10-31',shop_date_pay)"
   ]
  },
  {
   "cell_type": "code",
   "execution_count": null,
   "metadata": {
    "collapsed": true
   },
   "outputs": [],
   "source": [
    "train_feature_raw = week_1.join(week_2.join(week_3.join(week_4.join(week_5))))"
   ]
  },
  {
   "cell_type": "code",
   "execution_count": null,
   "metadata": {
    "collapsed": false
   },
   "outputs": [],
   "source": [
    "train_feature_raw"
   ]
  },
  {
   "cell_type": "code",
   "execution_count": null,
   "metadata": {
    "collapsed": true
   },
   "outputs": [],
   "source": [
    "train_null_value = find_null(train_feature_raw)"
   ]
  },
  {
   "cell_type": "code",
   "execution_count": null,
   "metadata": {
    "collapsed": false
   },
   "outputs": [],
   "source": [
    "train_feature = smooth_null(train_null_value, train_feature_raw)"
   ]
  },
  {
   "cell_type": "code",
   "execution_count": null,
   "metadata": {
    "collapsed": false
   },
   "outputs": [],
   "source": [
    "train_null_value = find_null(train_feature_raw)\n",
    "train_null_value\n",
    "train_feature.iloc[809] = [7,5,4,6,9,6,11,7,5,4,6,9,6,11,7,5,4,6,9,6,11,7,5,4,6,9,6,11,7,5,4,6,9,6,11]"
   ]
  },
  {
   "cell_type": "code",
   "execution_count": null,
   "metadata": {
    "collapsed": true
   },
   "outputs": [],
   "source": [
    "train_mean = train_feature.mean(axis=1)\n",
    "train_std = train_feature.std(axis=1)\n",
    "train_max = train_feature.max(axis=1)\n",
    "train_min = train_feature.min(axis=1)\n",
    "train_median = train_feature.median(axis=1)\n",
    "train_mad = train_feature.mad(axis=1)\n",
    "train_var = train_feature.var(axis=1)"
   ]
  },
  {
   "cell_type": "code",
   "execution_count": null,
   "metadata": {
    "collapsed": true
   },
   "outputs": [],
   "source": [
    "week_end = ['2016-09-24','2016-09-25','2016-10-01','2016-10-02','2016-10-08','2016-10-09','2016-10-15','2016-10-16','2016-10-22','2016-10-23']"
   ]
  },
  {
   "cell_type": "code",
   "execution_count": null,
   "metadata": {
    "collapsed": false
   },
   "outputs": [],
   "source": [
    "train_sum = train_feature.sum(axis=1)\n",
    "train_weekend_ration = train_feature[week_end].sum(axis=1)/train_sum"
   ]
  },
  {
   "cell_type": "code",
   "execution_count": null,
   "metadata": {
    "collapsed": true
   },
   "outputs": [],
   "source": [
    "train_day_pay = shop_info['per_pay']\n",
    "train_city_level = shop_info['city_level']\n",
    "poly = PolynomialFeatures(2, interaction_only = True, include_bias=False)"
   ]
  },
  {
   "cell_type": "code",
   "execution_count": null,
   "metadata": {
    "collapsed": true
   },
   "outputs": [],
   "source": [
    "train_feature = transfer_2dataframe(poly.fit_transform(train_feature))\n",
    "# train_feature['sum'] = train_sum\n",
    "train_feature['mean'] = train_mean\n",
    "train_feature['var'] = train_var\n",
    "train_feature['weekend'] = train_weekend_ration\n",
    "train_feature['day_pay'] = train_day_pay\n",
    "train_feature['city_level'] = train_city_level"
   ]
  },
  {
   "cell_type": "code",
   "execution_count": null,
   "metadata": {
    "collapsed": true
   },
   "outputs": [],
   "source": [
    "train_feature.to_csv('../train/train_feature_fullGQ.csv')"
   ]
  },
  {
   "cell_type": "code",
   "execution_count": null,
   "metadata": {
    "collapsed": false
   },
   "outputs": [],
   "source": [
    "train_feature"
   ]
  },
  {
   "cell_type": "code",
   "execution_count": null,
   "metadata": {
    "collapsed": false
   },
   "outputs": [],
   "source": [
    "test_feature_raw = week_2.join(week_3.join(week_4.join(week_5.join(week_6))))\n",
    "test_feature_raw"
   ]
  },
  {
   "cell_type": "code",
   "execution_count": null,
   "metadata": {
    "collapsed": true
   },
   "outputs": [],
   "source": [
    "test_null_value = find_null(test_feature_raw)\n",
    "test_feature = smooth_null(test_null_value, test_feature_raw)"
   ]
  },
  {
   "cell_type": "code",
   "execution_count": null,
   "metadata": {
    "collapsed": false
   },
   "outputs": [],
   "source": [
    "test_sum = test_feature.sum(axis=1)\n",
    "print test_sum\n",
    "test_mean = test_feature.mean(axis=1)\n",
    "test_std = test_feature.std(axis=1)\n",
    "test_max = test_feature.max(axis=1)\n",
    "test_min = test_feature.min(axis=1)\n",
    "test_median = test_feature.median(axis=1)\n",
    "test_mad = test_feature.mad(axis=1)\n",
    "test_var = test_feature.var(axis=1)\n",
    "week_end = ['2016-10-01','2016-10-02','2016-10-08','2016-10-09','2016-10-15','2016-10-16','2016-10-22','2016-10-23','2016-10-29','2016-10-30']"
   ]
  },
  {
   "cell_type": "code",
   "execution_count": null,
   "metadata": {
    "collapsed": true
   },
   "outputs": [],
   "source": [
    "test_weekend_ration = test_feature[week_end].sum(axis=1)/test_sum\n",
    "test_day_pay = shop_info['per_pay']\n",
    "test_city_level = shop_info['city_level']\n",
    "poly = PolynomialFeatures(2, interaction_only = True, include_bias=False)"
   ]
  },
  {
   "cell_type": "code",
   "execution_count": null,
   "metadata": {
    "collapsed": false
   },
   "outputs": [],
   "source": [
    "test_feature = transfer_2dataframe(poly.fit_transform(test_feature))\n",
    "# test_feature['sum'] = test_sum\n",
    "test_feature['mean'] = test_mean\n",
    "test_feature['var'] = test_var\n",
    "test_feature['weekend'] = test_weekend_ration\n",
    "test_feature['day_pay'] = test_day_pay\n",
    "test_feature['city_level'] = test_city_level\n",
    "test_feature"
   ]
  },
  {
   "cell_type": "code",
   "execution_count": null,
   "metadata": {
    "collapsed": true
   },
   "outputs": [],
   "source": [
    "test_feature.to_csv('../train/test_feature_fullGQ.csv')"
   ]
  },
  {
   "cell_type": "code",
   "execution_count": null,
   "metadata": {
    "collapsed": false
   },
   "outputs": [],
   "source": [
    "pd.isnull(test_feature).any(1).nonzero()"
   ]
  },
  {
   "cell_type": "code",
   "execution_count": null,
   "metadata": {
    "collapsed": false
   },
   "outputs": [],
   "source": [
    "train_label = pd.read_csv('../train/train_label.csv')\n",
    "del train_label['Unnamed: 0']\n",
    "train_label"
   ]
  },
  {
   "cell_type": "code",
   "execution_count": null,
   "metadata": {
    "collapsed": true
   },
   "outputs": [],
   "source": [
    "# -*- coding: utf-8 -*-\n",
    "# encoding = uft-8\n",
    "\"\"\"\n",
    "@Author: Alfred Gao\n",
    "\"\"\"\n",
    "import pandas as pd\n",
    "import numpy as np\n",
    "from sklearn.ensemble import ExtraTreesRegressor\n",
    "from sklearn.grid_search import GridSearchCV\n",
    "from sklearn.cross_validation import KFold\n",
    "from sklearn.metrics import make_scorer\n",
    "import sys\n",
    "sys.path.append('../')\n",
    "import time\n",
    "from __utils import cal_offline_score\n",
    "from __utils import get_result\n",
    "\n",
    "\n",
    "class mytreeRegressor():\n",
    "    def __init__(self):\n",
    "        self.n_estimators=0\n",
    "        self.random_state=0\n",
    "        self.n_jobs=0\n",
    "        self.min_samples_split=0\n",
    "        self.min_samples_leaf=0\n",
    "        self.max_depth=0\n",
    "        self.max_features=0\n",
    "\n",
    "    def gridSearch(self, train, train_label, para, isPath=False):\n",
    "        ExtraTree = ExtraTreesRegressor()\n",
    "        parameters = para\n",
    "        import os\n",
    "        if isPath:\n",
    "            if os.path.isfile(train) and os.path.isfile(train_label):\n",
    "                train_feature = pd.read_csv(train)\n",
    "                train_label = pd.read_csv(train_label)\n",
    "                del train_feature['Unnamed: 0']\n",
    "                del train_label['Unnamed: 0']\n",
    "        else:\n",
    "            train_feature = train\n",
    "            train_label = train_label\n",
    "            try:\n",
    "                del train_feature['Unnamed: 0']\n",
    "                del train_label['id']\n",
    "            except:\n",
    "                print 'SB'\n",
    "\n",
    "        train_feature_val = train_feature.values\n",
    "        train_label_val = train_label.values\n",
    "\n",
    "        kf = KFold(len(train_feature_val),n_folds=5,shuffle=True,random_state=1)\n",
    "        loss = make_scorer(cal_offline_score,greater_is_better=False)\n",
    "        #Grid Search for the best parameters\n",
    "        self.GridSearchModel = GridSearchCV(ExtraTree,param_grid=parameters,cv=kf,scoring=loss)\n",
    "        self.GridSearchModel.fit(train_feature_val,train_label_val)\n",
    "        return self.GridSearchModel.best_params_\n",
    "\n",
    "\n",
    "    def predict(self, train_feature, train_label, predict, best_p, singleOutput = False, isPath=False):\n",
    "        import os\n",
    "        if isPath:\n",
    "            if os.path.isfile(data):\n",
    "                predict_feature = pd.read_csv(data)\n",
    "        else:\n",
    "            predict_feature = predict\n",
    "# test_feature = pd.read_csv('../../train/test_feature_0222.csv')\n",
    "#Del the 'Unnamed:0' col in three tables.\n",
    "\n",
    "        ExtraTree = ExtraTreesRegressor(n_estimators=best_p['n_estimators'],\n",
    "                                        random_state=best_p['random_state'],\n",
    "                                        n_jobs=best_p['n_jobs'],\n",
    "                                        min_samples_split=best_p['min_samples_split'],\n",
    "                                        min_samples_leaf=best_p['min_samples_leaf'],\n",
    "                                        max_depth=best_p['max_depth'],\n",
    "                                        max_features=best_p['max_features'])\n",
    "\n",
    "        ExtraTree.fit(train_feature, train_label)\n",
    "        result = (ExtraTree.predict(test_feature)).round()\n",
    "        if not singleOutput:\n",
    "            result = get_result(result)\n",
    "            timestamp = time.strftime(\"%y%m%d\")\n",
    "            save_submit_path = '../output/submit_' + timestamp + '.csv'\n",
    "        result = result.astype(int)\n",
    "        result.to_csv(save_submit_path,index=False,header=False)\n",
    "        return result\n",
    "\n",
    "# pre = pd.read_csv('../../output/submit_170221.csv',names=['id','d1','d2','d3','d4','d5','d6','d7','d8','d9','d10','d11','d12','d13','d14'])\n",
    "# true = pd.read_csv('../../output/submit_170222.csv',names=['id','d1','d2','d3','d4','d5','d6','d7','d8','d9','d10','d11','d12','d13','d14'])\n",
    "# true['d11'] = (true['d11']*1.2).round()\n",
    "# true = true.astype(int)\n",
    "# true.to_csv('submit_170222_double11.csv',index=False, header=False)\n",
    "# del pre['id']\n",
    "# del true['id']\n",
    "#\n",
    "# print cal_offline_score(np.array(pre), np.array(true))\n"
   ]
  },
  {
   "cell_type": "code",
   "execution_count": null,
   "metadata": {
    "collapsed": true
   },
   "outputs": [],
   "source": [
    "et = mytreeRegressor()"
   ]
  },
  {
   "cell_type": "code",
   "execution_count": null,
   "metadata": {
    "collapsed": false
   },
   "outputs": [],
   "source": [
    "para = {'n_estimators':[1200],'n_jobs':[-1],'random_state':[1],'min_samples_split':[2],\\\n",
    "                        'min_samples_leaf':[2],'max_depth':[30],'criterion':['mse'],'max_features':[600]}\n",
    "et.gridSearch(train_feature, train_label, para)"
   ]
  },
  {
   "cell_type": "code",
   "execution_count": null,
   "metadata": {
    "collapsed": false
   },
   "outputs": [],
   "source": [
    "best_para = {'criterion': 'mse',\n",
    " 'max_depth': 30,\n",
    " 'max_features': 600,\n",
    " 'min_samples_leaf': 2,\n",
    " 'min_samples_split': 2,\n",
    " 'n_estimators': 1200,\n",
    " 'n_jobs': -1,\n",
    " 'random_state': 1}\n",
    "et.predict(train_feature, train_label, test_feature, best_para)"
   ]
  },
  {
   "cell_type": "code",
   "execution_count": null,
   "metadata": {
    "collapsed": false
   },
   "outputs": [],
   "source": [
    "submit = pd.read_csv('../output/submit_170223.csv', names=['id','1','2','3','4','5','6','7','8','9','10','11','12','13','14'])\n",
    "submit"
   ]
  },
  {
   "cell_type": "code",
   "execution_count": null,
   "metadata": {
    "collapsed": true
   },
   "outputs": [],
   "source": [
    "submit = submit.astype(int)"
   ]
  },
  {
   "cell_type": "code",
   "execution_count": null,
   "metadata": {
    "collapsed": true
   },
   "outputs": [],
   "source": [
    "submit.to_csv('../output/submit_170223.csv',index=False, header=False)"
   ]
  },
  {
   "cell_type": "markdown",
   "metadata": {
    "collapsed": true
   },
   "source": [
    "# 24/22/17 研究研究规则"
   ]
  },
  {
   "cell_type": "code",
   "execution_count": null,
   "metadata": {
    "collapsed": false
   },
   "outputs": [],
   "source": [
    "header = ['id','1','2','3','4','5','6','7','8','9','10','11','12','13','14']\n",
    "output_1 = pd.read_csv('../output/submit_170221.csv',names = header)\n",
    "output_1 = output_1[['1','2','3','4','5','6','7','8','9','10','11','12','13','14']]\n",
    "output_2 = pd.read_csv('../output/submit_170222.csv',names = header)\n",
    "output_2 = output_2[['1','2','3','4','5','6','7','8','9','10','11','12','13','14']]\n",
    "output_3 = pd.read_csv('../output/submit_170222_double11.csv',names = header)\n",
    "output_3 = output_3[['1','2','3','4','5','6','7','8','9','10','11','12','13','14']]\n",
    "output_4 = pd.read_csv('../output/submit_170223.csv',names = header)\n",
    "output_4 = output_4[['1','2','3','4','5','6','7','8','9','10','11','12','13','14']]"
   ]
  },
  {
   "cell_type": "code",
   "execution_count": null,
   "metadata": {
    "collapsed": false
   },
   "outputs": [],
   "source": [
    "from sklearn.preprocessing import PolynomialFeatures\n",
    "from __utils import *\n",
    "import seaborn as sns\n",
    "%matplotlib inline\n",
    "shop_date_pay = pd.read_csv('../dataset/preprocessed/shop_date_dapay.csv')\n",
    "shop_info = pd.read_csv('../dataset/preprocessed/shop_info_0221.csv')\n",
    "week_1 = select_days_range('2016-09-20','2016-09-26',shop_date_pay)\n",
    "week_2 = select_days_range('2016-09-27','2016-10-03',shop_date_pay)\n",
    "week_3 = select_days_range('2016-10-04','2016-10-10',shop_date_pay)\n",
    "week_4 = select_days_range('2016-10-11','2016-10-17',shop_date_pay)\n",
    "week_5 = select_days_range('2016-10-18','2016-10-24',shop_date_pay)\n",
    "week_6 = select_days_range('2016-10-25','2016-10-31',shop_date_pay)"
   ]
  },
  {
   "cell_type": "code",
   "execution_count": null,
   "metadata": {
    "collapsed": false
   },
   "outputs": [],
   "source": [
    "six_week = week_1.join(week_2.join(week_3.join(week_4.join(week_5.join(week_6)))))\n",
    "six_week_1 = six_week.join(output_1)\n",
    "shop_info.loc[134]\n",
    "# six_week.loc[134]"
   ]
  },
  {
   "cell_type": "code",
   "execution_count": null,
   "metadata": {
    "collapsed": false
   },
   "outputs": [],
   "source": [
    "six_week_4.loc[4].plot()"
   ]
  },
  {
   "cell_type": "code",
   "execution_count": null,
   "metadata": {
    "collapsed": true
   },
   "outputs": [],
   "source": [
    "import pandas as pd\n",
    "import numpy as np\n",
    "from sklearn.ensemble import ExtraTreesRegressor\n",
    "from sklearn.grid_search import GridSearchCV\n",
    "from sklearn.cross_validation import KFold\n",
    "from sklearn.metrics import make_scorer\n",
    "import sys\n",
    "sys.path.append('../')\n",
    "import time\n",
    "from __utils import cal_offline_score\n",
    "from __utils import get_result\n",
    "\n",
    "\n",
    "class mytreeRegressor():\n",
    "    def __init__(self):\n",
    "        self.n_estimators=0\n",
    "        self.random_state=0\n",
    "        self.n_jobs=0\n",
    "        self.min_samples_split=0\n",
    "        self.min_samples_leaf=0\n",
    "        self.max_depth=0\n",
    "        self.max_features=0\n",
    "\n",
    "    def gridSearch(self, train, train_label, para, isPath=False):\n",
    "        ExtraTree = ExtraTreesRegressor()\n",
    "        parameters = para\n",
    "        import os\n",
    "        if isPath:\n",
    "            if os.path.isfile(train) and os.path.isfile(train_label):\n",
    "                train_feature = pd.read_csv(train)\n",
    "                train_label = pd.read_csv(train_label)\n",
    "                del train_feature['Unnamed: 0']\n",
    "                del train_label['Unnamed: 0']\n",
    "        else:\n",
    "            train_feature = train\n",
    "            train_label = train_label\n",
    "            try:\n",
    "                del train_feature['Unnamed: 0']\n",
    "                del train_label['id']\n",
    "            except:\n",
    "                print 'SB'\n",
    "\n",
    "        train_feature_val = train_feature.values\n",
    "        train_label_val = train_label.values\n",
    "\n",
    "        kf = KFold(len(train_feature_val),n_folds=5,shuffle=True,random_state=1)\n",
    "        loss = make_scorer(cal_offline_score,greater_is_better=False)\n",
    "        #Grid Search for the best parameters\n",
    "        self.GridSearchModel = GridSearchCV(ExtraTree,param_grid=parameters,cv=kf,scoring=loss)\n",
    "        self.GridSearchModel.fit(train_feature_val,train_label_val)\n",
    "        return self.GridSearchModel.best_params_\n",
    "\n",
    "\n",
    "    def predict(self, train_feature, train_label, predict, best_p, singleOutput = False, isPath=False):\n",
    "        import os\n",
    "        if isPath:\n",
    "            if os.path.isfile(data):\n",
    "                predict_feature = pd.read_csv(data)\n",
    "        else:\n",
    "            test_feature = predict\n",
    "# test_feature = pd.read_csv('../../train/test_feature_0222.csv')\n",
    "#Del the 'Unnamed:0' col in three tables.\n",
    "\n",
    "        ExtraTree = ExtraTreesRegressor(n_estimators=best_p['n_estimators'],\n",
    "                                        random_state=best_p['random_state'],\n",
    "                                        n_jobs=best_p['n_jobs'],\n",
    "                                        min_samples_split=best_p['min_samples_split'],\n",
    "                                        min_samples_leaf=best_p['min_samples_leaf'],\n",
    "                                        max_depth=best_p['max_depth'],\n",
    "                                        max_features=best_p['max_features'])\n",
    "\n",
    "        ExtraTree.fit(train_feature, train_label)\n",
    "        result = (ExtraTree.predict(test_feature)).round()\n",
    "        if not singleOutput:\n",
    "            result = get_result(result)\n",
    "            timestamp = time.strftime(\"%y%m%d\")\n",
    "            save_submit_path = '../output/submit_' + timestamp + '.csv'\n",
    "        result = result.astype(int)\n",
    "        result.to_csv(save_submit_path,index=False,header=False)\n",
    "        return result"
   ]
  },
  {
   "cell_type": "code",
   "execution_count": null,
   "metadata": {
    "collapsed": false
   },
   "outputs": [],
   "source": [
    "train_feature_23 = pd.read_csv('../train/train_feature_0222.csv')\n",
    "train_feature_23"
   ]
  },
  {
   "cell_type": "code",
   "execution_count": null,
   "metadata": {
    "collapsed": true
   },
   "outputs": [],
   "source": [
    "week1_max = train_feature_23.loc[:,'col_0':'col_6'].max(axis=1)\n",
    "week1_min = train_feature_23.loc[:,'col_0':'col_6'].min(axis=1)\n",
    "week2_max = train_feature_23.loc[:,'col_7':'col_13'].max(axis=1)\n",
    "week2_min = train_feature_23.loc[:,'col_7':'col_13'].min(axis=1)\n",
    "week3_max = train_feature_23.loc[:,'col_14':'col_20'].max(axis=1)\n",
    "week3_min = train_feature_23.loc[:,'col_14':'col_20'].min(axis=1)\n",
    "# week6_max = train_feature_23.loc[:,'col_7':'col_13'].max(axis=1)\n",
    "# week6_min = train_feature_23.loc[:,'col_7':'col_13'].min(axis=1)\n",
    "train_feature_23['week1_max'] = week1_max\n",
    "train_feature_23['week1_min'] = week1_min\n",
    "train_feature_23['week2_max'] = week2_max\n",
    "train_feature_23['week2_min'] = week2_min\n",
    "train_feature_23['week3_max'] = week3_max\n",
    "train_feature_23['week3_min'] = week3_min\n",
    "train_feature_23['allweek_max'] = train_feature_23.loc[:,'col_0':'col_20'].max(axis=1)\n",
    "train_feature_23['allweek_min'] = train_feature_23.loc[:,'col_0':'col_20'].min(axis=1)"
   ]
  },
  {
   "cell_type": "code",
   "execution_count": null,
   "metadata": {
    "collapsed": false
   },
   "outputs": [],
   "source": [
    "train_feature_23"
   ]
  },
  {
   "cell_type": "code",
   "execution_count": null,
   "metadata": {
    "collapsed": false
   },
   "outputs": [],
   "source": [
    "test_feature_23 = pd.read_csv('../train/test_feature_0222.csv')\n",
    "test_feature_23"
   ]
  },
  {
   "cell_type": "code",
   "execution_count": null,
   "metadata": {
    "collapsed": true
   },
   "outputs": [],
   "source": [
    "week1_max = test_feature_23.loc[:,'col_0':'col_6'].max(axis=1)\n",
    "week1_min = test_feature_23.loc[:,'col_0':'col_6'].min(axis=1)\n",
    "week2_max = test_feature_23.loc[:,'col_7':'col_13'].max(axis=1)\n",
    "week2_min = test_feature_23.loc[:,'col_7':'col_13'].min(axis=1)\n",
    "week3_max = test_feature_23.loc[:,'col_14':'col_20'].max(axis=1)\n",
    "week3_min = test_feature_23.loc[:,'col_14':'col_20'].min(axis=1)\n",
    "# week6_max = train_feature_23.loc[:,'col_7':'col_13'].max(axis=1)\n",
    "# week6_min = train_feature_23.loc[:,'col_7':'col_13'].min(axis=1)\n",
    "test_feature_23['week1_max'] = week1_max\n",
    "test_feature_23['week1_min'] = week1_min\n",
    "test_feature_23['week2_max'] = week2_max\n",
    "test_feature_23['week2_min'] = week2_min\n",
    "test_feature_23['week3_max'] = week3_max\n",
    "test_feature_23['week3_min'] = week3_min\n",
    "test_feature_23['allweek_max'] = train_feature_23.loc[:,'col_0':'col_20'].max(axis=1)\n",
    "test_feature_23['allweek_min'] = train_feature_23.loc[:,'col_0':'col_20'].min(axis=1)"
   ]
  },
  {
   "cell_type": "code",
   "execution_count": null,
   "metadata": {
    "collapsed": false
   },
   "outputs": [],
   "source": [
    "test_feature_23"
   ]
  },
  {
   "cell_type": "code",
   "execution_count": null,
   "metadata": {
    "collapsed": true
   },
   "outputs": [],
   "source": [
    "et = mytreeRegressor()"
   ]
  },
  {
   "cell_type": "code",
   "execution_count": null,
   "metadata": {
    "collapsed": false
   },
   "outputs": [],
   "source": [
    "y_label = pd.read_csv('../train/train_label.csv')\n",
    "y_label"
   ]
  },
  {
   "cell_type": "code",
   "execution_count": null,
   "metadata": {
    "collapsed": true
   },
   "outputs": [],
   "source": [
    "para = {'n_estimators':[1200],'n_jobs':[-1],'random_state':[1],'min_samples_split':[2],\\\n",
    "                        'min_samples_leaf':[2],'max_depth':[25],'criterion':['mse'],'max_features':[252]}"
   ]
  },
  {
   "cell_type": "code",
   "execution_count": null,
   "metadata": {
    "collapsed": true
   },
   "outputs": [],
   "source": [
    "del test_feature_23['Unnamed: 0']"
   ]
  },
  {
   "cell_type": "code",
   "execution_count": null,
   "metadata": {
    "collapsed": false
   },
   "outputs": [],
   "source": [
    "del train_feature_23['shop_id']\n",
    "# del y_label['Unnamed: 0']"
   ]
  },
  {
   "cell_type": "code",
   "execution_count": null,
   "metadata": {
    "collapsed": false
   },
   "outputs": [],
   "source": [
    "# del test_feature_23['shop_id']\n",
    "y_label"
   ]
  },
  {
   "cell_type": "code",
   "execution_count": null,
   "metadata": {
    "collapsed": false
   },
   "outputs": [],
   "source": [
    "best_para = {'criterion': 'mse',\n",
    " 'max_depth': 25,\n",
    " 'max_features': 251,\n",
    " 'min_samples_leaf': 2,\n",
    " 'min_samples_split': 2,\n",
    " 'n_estimators': 1200,\n",
    " 'n_jobs': -1,\n",
    " 'random_state': 1}\n",
    "result = et.predict(train_feature_23, y_label, test_feature_23, best_para)"
   ]
  },
  {
   "cell_type": "code",
   "execution_count": null,
   "metadata": {
    "collapsed": false
   },
   "outputs": [],
   "source": [
    "# result.to_csv('../output/submit_170224_minmax.csv',index=False, header=False)\n",
    "result"
   ]
  },
  {
   "cell_type": "code",
   "execution_count": null,
   "metadata": {
    "collapsed": false
   },
   "outputs": [],
   "source": [
    "del result['shop_id']\n",
    "result"
   ]
  },
  {
   "cell_type": "code",
   "execution_count": null,
   "metadata": {
    "collapsed": false
   },
   "outputs": [],
   "source": [
    "six_week_23 = six_week.join(result)\n",
    "six_week_23"
   ]
  },
  {
   "cell_type": "code",
   "execution_count": null,
   "metadata": {
    "collapsed": true
   },
   "outputs": [],
   "source": [
    "result_ontrain = et.predict(train_feature_23, y_label, train_feature_23, best_para,singleOutput=True)"
   ]
  },
  {
   "cell_type": "code",
   "execution_count": null,
   "metadata": {
    "collapsed": false
   },
   "outputs": [],
   "source": [
    "result_lastweek = result_ontrain.loc[:,'col_0_x':'col_6_x']"
   ]
  },
  {
   "cell_type": "code",
   "execution_count": null,
   "metadata": {
    "collapsed": false
   },
   "outputs": [],
   "source": [
    "result_lastweek.loc[144].plot()\n",
    "test_feature_23.loc[:,'col_14':'col_20'].loc[144].plot()"
   ]
  },
  {
   "cell_type": "code",
   "execution_count": null,
   "metadata": {
    "collapsed": false
   },
   "outputs": [],
   "source": [
    "result_lastweek\n",
    "result_lastweek.loc[1246]"
   ]
  },
  {
   "cell_type": "code",
   "execution_count": null,
   "metadata": {
    "collapsed": false
   },
   "outputs": [],
   "source": [
    "loss_array = []\n",
    "index_bad = []\n",
    "for index in range(2000):\n",
    "    predict = result.loc[index]\n",
    "    true = test_feature_23.loc[:,'col_14':'col_20'].loc[index]\n",
    "    loss = 0.\n",
    "    for __index in range(7):\n",
    "        loss = loss + abs((predict[__index] - true[__index])/(predict[__index] + true[__index]))\n",
    "    if (loss/7.) > 0.16:\n",
    "        print index\n",
    "        index_bad.append(index)\n",
    "    loss_array.append(loss/7.)"
   ]
  },
  {
   "cell_type": "code",
   "execution_count": null,
   "metadata": {
    "collapsed": false
   },
   "outputs": [],
   "source": [
    "np.mean(loss_array)\n",
    "np.max(loss_array)"
   ]
  },
  {
   "cell_type": "code",
   "execution_count": 370,
   "metadata": {
    "collapsed": false
   },
   "outputs": [
    {
     "data": {
      "text/plain": [
       "<matplotlib.axes._subplots.AxesSubplot at 0x13e6a3cd0>"
      ]
     },
     "execution_count": 370,
     "metadata": {},
     "output_type": "execute_result"
    },
    {
     "data": {
      "image/png": "[encoded data removed]",
      "text/plain": [
       "<matplotlib.figure.Figure at 0x13e6acfd0>"
      ]
     },
     "metadata": {},
     "output_type": "display_data"
    }
   ],
   "source": [
    "six_week_23.plot()"
   ]
  },
  {
   "cell_type": "code",
   "execution_count": null,
   "metadata": {
    "collapsed": true
   },
   "outputs": [],
   "source": []
  }
 ],
 "metadata": {
  "kernelspec": {
   "display_name": "Python 2",
   "language": "python",
   "name": "python2"
  },
  "language_info": {
   "codemirror_mode": {
    "name": "ipython",
    "version": 2
   },
   "file_extension": ".py",
   "mimetype": "text/x-python",
   "name": "python",
   "nbconvert_exporter": "python",
   "pygments_lexer": "ipython2",
   "version": "2.7.10"
  }
 },
 "nbformat": 4,
 "nbformat_minor": 0
}
