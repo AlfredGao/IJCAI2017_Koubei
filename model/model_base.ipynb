{
 "cells": [
  {
   "cell_type": "markdown",
   "metadata": {},
   "source": [
    "- 预测2016.11.01-2016.11.14客户流量.结果为非负整数。\n",
    "- 提供2015.07.01到2016.10.31（除去2015.12.12）的商家数据，用户支付行为数据以及用户浏览行为数据。\n",
    "- 提供数据的类型统一为string类型，提交预测的类型为整形。文件统一为utf-8编码，没有标题行，并以“,”分隔的csv格式。"
   ]
  },
  {
   "cell_type": "markdown",
   "metadata": {},
   "source": [
    "### 供参考的特征生成方法\n",
    "\n",
    "- centrality measures (mostly median) on sales of the same store/weekday/promo during last 3, 6, 12 and 24 months (some spread measures too but they were more prone to overfitting)\n",
    "- linear model (ridge) predictions for each store on weekday/promo/dayssince2000 on last 3 and 12 months to help the tree model extrapolate\n",
    "- number of schoolholidays this week, last week and next week\n",
    "- aggregates by store (avg sales per customer, promo sales ratio, saturday sales ratio, holiday sales ratio)\n",
    "- daycounters (before, during and after) for things like position within promo cycle, promo2 cycle, summerholidays and refurbishments\n",
    "\n",
    "External data that were posted to the forum by others (big thanks!):\n",
    "\n",
    "- maxtemp and precipmm from the weather files by state\n",
    "- summerholiday start dates\n"
   ]
  },
  {
   "cell_type": "code",
   "execution_count": 1,
   "metadata": {
    "collapsed": true
   },
   "outputs": [],
   "source": [
    "import pandas as pd\n",
    "import numpy as np\n",
    "%matplotlib inline"
   ]
  },
  {
   "cell_type": "code",
   "execution_count": 2,
   "metadata": {
    "collapsed": true
   },
   "outputs": [],
   "source": [
    "data_col=['user_id','shop_id','time_stamp']"
   ]
  },
  {
   "cell_type": "code",
   "execution_count": 3,
   "metadata": {
    "collapsed": true
   },
   "outputs": [],
   "source": [
    "shop_info_col=['shop_id','city_name','location_id','per_pay','score','comment_cnt','shop_level','cate_1_name','cate_2_name','cate_3_name']"
   ]
  },
  {
   "cell_type": "code",
   "execution_count": 4,
   "metadata": {
    "collapsed": false
   },
   "outputs": [
    {
     "data": {
      "text/html": [
       "<div>\n",
       "<table border=\"1\" class=\"dataframe\">\n",
       "  <thead>\n",
       "    <tr style=\"text-align: right;\">\n",
       "      <th></th>\n",
       "      <th>shop_id</th>\n",
       "      <th>city_name</th>\n",
       "      <th>location_id</th>\n",
       "      <th>per_pay</th>\n",
       "      <th>score</th>\n",
       "      <th>comment_cnt</th>\n",
       "      <th>shop_level</th>\n",
       "      <th>cate_1_name</th>\n",
       "      <th>cate_2_name</th>\n",
       "      <th>cate_3_name</th>\n",
       "    </tr>\n",
       "  </thead>\n",
       "  <tbody>\n",
       "    <tr>\n",
       "      <th>0</th>\n",
       "      <td>1</td>\n",
       "      <td>湖州</td>\n",
       "      <td>885</td>\n",
       "      <td>8</td>\n",
       "      <td>4.0</td>\n",
       "      <td>12.0</td>\n",
       "      <td>2</td>\n",
       "      <td>美食</td>\n",
       "      <td>休闲茶饮</td>\n",
       "      <td>饮品/甜点</td>\n",
       "    </tr>\n",
       "    <tr>\n",
       "      <th>1</th>\n",
       "      <td>2</td>\n",
       "      <td>哈尔滨</td>\n",
       "      <td>64</td>\n",
       "      <td>19</td>\n",
       "      <td>NaN</td>\n",
       "      <td>NaN</td>\n",
       "      <td>1</td>\n",
       "      <td>超市便利店</td>\n",
       "      <td>超市</td>\n",
       "      <td>NaN</td>\n",
       "    </tr>\n",
       "    <tr>\n",
       "      <th>2</th>\n",
       "      <td>3</td>\n",
       "      <td>南昌</td>\n",
       "      <td>774</td>\n",
       "      <td>5</td>\n",
       "      <td>3.0</td>\n",
       "      <td>2.0</td>\n",
       "      <td>0</td>\n",
       "      <td>美食</td>\n",
       "      <td>休闲茶饮</td>\n",
       "      <td>奶茶</td>\n",
       "    </tr>\n",
       "    <tr>\n",
       "      <th>3</th>\n",
       "      <td>4</td>\n",
       "      <td>天津</td>\n",
       "      <td>380</td>\n",
       "      <td>18</td>\n",
       "      <td>NaN</td>\n",
       "      <td>NaN</td>\n",
       "      <td>1</td>\n",
       "      <td>超市便利店</td>\n",
       "      <td>超市</td>\n",
       "      <td>NaN</td>\n",
       "    </tr>\n",
       "    <tr>\n",
       "      <th>4</th>\n",
       "      <td>5</td>\n",
       "      <td>杭州</td>\n",
       "      <td>263</td>\n",
       "      <td>2</td>\n",
       "      <td>2.0</td>\n",
       "      <td>2.0</td>\n",
       "      <td>0</td>\n",
       "      <td>美食</td>\n",
       "      <td>休闲食品</td>\n",
       "      <td>生鲜水果</td>\n",
       "    </tr>\n",
       "  </tbody>\n",
       "</table>\n",
       "</div>"
      ],
      "text/plain": [
       "   shop_id city_name  location_id  per_pay  score  comment_cnt  shop_level  \\\n",
       "0        1        湖州          885        8    4.0         12.0           2   \n",
       "1        2       哈尔滨           64       19    NaN          NaN           1   \n",
       "2        3        南昌          774        5    3.0          2.0           0   \n",
       "3        4        天津          380       18    NaN          NaN           1   \n",
       "4        5        杭州          263        2    2.0          2.0           0   \n",
       "\n",
       "  cate_1_name cate_2_name cate_3_name  \n",
       "0          美食        休闲茶饮       饮品/甜点  \n",
       "1       超市便利店          超市         NaN  \n",
       "2          美食        休闲茶饮          奶茶  \n",
       "3       超市便利店          超市         NaN  \n",
       "4          美食        休闲食品        生鲜水果  "
      ]
     },
     "execution_count": 4,
     "metadata": {},
     "output_type": "execute_result"
    }
   ],
   "source": [
    "shop_info=pd.read_csv('../dataset/shop_info.txt',header=None)\n",
    "shop_info.columns=shop_info_col\n",
    "\n",
    "shop_info.head()"
   ]
  },
  {
   "cell_type": "code",
   "execution_count": 5,
   "metadata": {
    "collapsed": true
   },
   "outputs": [],
   "source": [
    "shop_info.drop(['city_name','cate_1_name','cate_2_name','cate_3_name'],axis=1,inplace=True)"
   ]
  },
  {
   "cell_type": "code",
   "execution_count": 6,
   "metadata": {
    "collapsed": false
   },
   "outputs": [
    {
     "data": {
      "text/html": [
       "<div>\n",
       "<table border=\"1\" class=\"dataframe\">\n",
       "  <thead>\n",
       "    <tr style=\"text-align: right;\">\n",
       "      <th></th>\n",
       "      <th>shop_id</th>\n",
       "      <th>location_id</th>\n",
       "      <th>per_pay</th>\n",
       "      <th>score</th>\n",
       "      <th>comment_cnt</th>\n",
       "      <th>shop_level</th>\n",
       "    </tr>\n",
       "  </thead>\n",
       "  <tbody>\n",
       "    <tr>\n",
       "      <th>0</th>\n",
       "      <td>1</td>\n",
       "      <td>885</td>\n",
       "      <td>8</td>\n",
       "      <td>4.0</td>\n",
       "      <td>12.0</td>\n",
       "      <td>2</td>\n",
       "    </tr>\n",
       "    <tr>\n",
       "      <th>1</th>\n",
       "      <td>2</td>\n",
       "      <td>64</td>\n",
       "      <td>19</td>\n",
       "      <td>NaN</td>\n",
       "      <td>NaN</td>\n",
       "      <td>1</td>\n",
       "    </tr>\n",
       "    <tr>\n",
       "      <th>2</th>\n",
       "      <td>3</td>\n",
       "      <td>774</td>\n",
       "      <td>5</td>\n",
       "      <td>3.0</td>\n",
       "      <td>2.0</td>\n",
       "      <td>0</td>\n",
       "    </tr>\n",
       "    <tr>\n",
       "      <th>3</th>\n",
       "      <td>4</td>\n",
       "      <td>380</td>\n",
       "      <td>18</td>\n",
       "      <td>NaN</td>\n",
       "      <td>NaN</td>\n",
       "      <td>1</td>\n",
       "    </tr>\n",
       "    <tr>\n",
       "      <th>4</th>\n",
       "      <td>5</td>\n",
       "      <td>263</td>\n",
       "      <td>2</td>\n",
       "      <td>2.0</td>\n",
       "      <td>2.0</td>\n",
       "      <td>0</td>\n",
       "    </tr>\n",
       "  </tbody>\n",
       "</table>\n",
       "</div>"
      ],
      "text/plain": [
       "   shop_id  location_id  per_pay  score  comment_cnt  shop_level\n",
       "0        1          885        8    4.0         12.0           2\n",
       "1        2           64       19    NaN          NaN           1\n",
       "2        3          774        5    3.0          2.0           0\n",
       "3        4          380       18    NaN          NaN           1\n",
       "4        5          263        2    2.0          2.0           0"
      ]
     },
     "execution_count": 6,
     "metadata": {},
     "output_type": "execute_result"
    }
   ],
   "source": [
    "shop_info.head()"
   ]
  },
  {
   "cell_type": "code",
   "execution_count": 7,
   "metadata": {
    "collapsed": false
   },
   "outputs": [],
   "source": [
    "#data_view=pd.read_csv('../dataset/user_view.txt',header=None)\n",
    "\n",
    "#data_view.columns=data_col"
   ]
  },
  {
   "cell_type": "code",
   "execution_count": 8,
   "metadata": {
    "collapsed": false
   },
   "outputs": [],
   "source": [
    "#data_pay=pd.read_csv('../dataset/user_view.txt',header=None)\n",
    "#data_pay.columns=data_col\n",
    "\n",
    "#data_pay.head(15)"
   ]
  },
  {
   "cell_type": "code",
   "execution_count": 9,
   "metadata": {
    "collapsed": true
   },
   "outputs": [],
   "source": [
    "#data_pay.time_stamp=pd.to_datetime(data_pay.time_stamp, format='%Y/%m/%d %H:%M:%S')"
   ]
  },
  {
   "cell_type": "code",
   "execution_count": 10,
   "metadata": {
    "collapsed": false
   },
   "outputs": [],
   "source": [
    "#data_pay['data']=data_pay.time_stamp.dt.date\n",
    "#data_pay['day']=data_pay.time_stamp.dt.day\n",
    "#data_pay['dayofweek']=data_pay.time_stamp.dt.dayofweek\n",
    "#data_pay['month']=data_pay.time_stamp.dt.month"
   ]
  },
  {
   "cell_type": "code",
   "execution_count": 11,
   "metadata": {
    "collapsed": false
   },
   "outputs": [],
   "source": [
    "#data_pay.head()"
   ]
  },
  {
   "cell_type": "code",
   "execution_count": 12,
   "metadata": {
    "collapsed": true
   },
   "outputs": [],
   "source": [
    "#feature_daypay=pd.DataFrame(data_pay.groupby(['shop_id','data'])['user_id'].count())\n",
    "#feature_daypay.rename(columns={'user_id':'daypay'},inplace=True)\n",
    "#feature_daypay.to_csv('../tempfile/feature_daypay.csv')\n",
    "feature_daypay=pd.read_csv('../tempfile/feature_daypay.csv')"
   ]
  },
  {
   "cell_type": "code",
   "execution_count": 13,
   "metadata": {
    "collapsed": true
   },
   "outputs": [],
   "source": [
    "# 14天的预测值 \n",
    "# 分割数据集\n",
    "\n",
    "#  2016-10-18  2016-10-31\n",
    "#  2016-10-3  2016-10-17\n",
    "\n",
    "# 过去一周平均业绩\n",
    "#  过去一个月平均业绩\n",
    "# 过去3个月平均业绩\n",
    "# 过去半年平均业绩\n",
    "# 过去一年平均业绩\n",
    "# 去年同期平均业绩"
   ]
  },
  {
   "cell_type": "code",
   "execution_count": 14,
   "metadata": {
    "collapsed": false
   },
   "outputs": [
    {
     "data": {
      "text/html": [
       "<div>\n",
       "<table border=\"1\" class=\"dataframe\">\n",
       "  <thead>\n",
       "    <tr style=\"text-align: right;\">\n",
       "      <th></th>\n",
       "      <th>shop_id</th>\n",
       "      <th>data</th>\n",
       "      <th>daypay</th>\n",
       "    </tr>\n",
       "  </thead>\n",
       "  <tbody>\n",
       "    <tr>\n",
       "      <th>0</th>\n",
       "      <td>1</td>\n",
       "      <td>2015-10-10</td>\n",
       "      <td>188</td>\n",
       "    </tr>\n",
       "    <tr>\n",
       "      <th>1</th>\n",
       "      <td>1</td>\n",
       "      <td>2015-10-11</td>\n",
       "      <td>272</td>\n",
       "    </tr>\n",
       "    <tr>\n",
       "      <th>2</th>\n",
       "      <td>1</td>\n",
       "      <td>2015-10-12</td>\n",
       "      <td>257</td>\n",
       "    </tr>\n",
       "    <tr>\n",
       "      <th>3</th>\n",
       "      <td>1</td>\n",
       "      <td>2015-10-13</td>\n",
       "      <td>239</td>\n",
       "    </tr>\n",
       "    <tr>\n",
       "      <th>4</th>\n",
       "      <td>1</td>\n",
       "      <td>2015-10-14</td>\n",
       "      <td>277</td>\n",
       "    </tr>\n",
       "  </tbody>\n",
       "</table>\n",
       "</div>"
      ],
      "text/plain": [
       "   shop_id        data  daypay\n",
       "0        1  2015-10-10     188\n",
       "1        1  2015-10-11     272\n",
       "2        1  2015-10-12     257\n",
       "3        1  2015-10-13     239\n",
       "4        1  2015-10-14     277"
      ]
     },
     "execution_count": 14,
     "metadata": {},
     "output_type": "execute_result"
    }
   ],
   "source": [
    "feature_daypay.head()"
   ]
  },
  {
   "cell_type": "code",
   "execution_count": 15,
   "metadata": {
    "collapsed": true
   },
   "outputs": [],
   "source": [
    "train=feature_daypay[feature_daypay.data<'2016-10-18']\n",
    "\n",
    "test=feature_daypay#[feature_daypay.data>='2016-10-18']"
   ]
  },
  {
   "cell_type": "code",
   "execution_count": 16,
   "metadata": {
    "collapsed": false
   },
   "outputs": [
    {
     "data": {
      "text/plain": [
       "(571375, 3)"
      ]
     },
     "execution_count": 16,
     "metadata": {},
     "output_type": "execute_result"
    }
   ],
   "source": [
    "train.shape"
   ]
  },
  {
   "cell_type": "code",
   "execution_count": 17,
   "metadata": {
    "collapsed": false
   },
   "outputs": [
    {
     "data": {
      "text/plain": [
       "(599275, 3)"
      ]
     },
     "execution_count": 17,
     "metadata": {},
     "output_type": "execute_result"
    }
   ],
   "source": [
    "test.shape"
   ]
  },
  {
   "cell_type": "code",
   "execution_count": 18,
   "metadata": {
    "collapsed": false
   },
   "outputs": [
    {
     "data": {
      "text/html": [
       "<div>\n",
       "<table border=\"1\" class=\"dataframe\">\n",
       "  <thead>\n",
       "    <tr style=\"text-align: right;\">\n",
       "      <th></th>\n",
       "      <th>shop_id</th>\n",
       "      <th>data</th>\n",
       "      <th>daypay</th>\n",
       "    </tr>\n",
       "  </thead>\n",
       "  <tbody>\n",
       "    <tr>\n",
       "      <th>0</th>\n",
       "      <td>1</td>\n",
       "      <td>2015-10-10</td>\n",
       "      <td>188</td>\n",
       "    </tr>\n",
       "    <tr>\n",
       "      <th>1</th>\n",
       "      <td>1</td>\n",
       "      <td>2015-10-11</td>\n",
       "      <td>272</td>\n",
       "    </tr>\n",
       "    <tr>\n",
       "      <th>2</th>\n",
       "      <td>1</td>\n",
       "      <td>2015-10-12</td>\n",
       "      <td>257</td>\n",
       "    </tr>\n",
       "    <tr>\n",
       "      <th>3</th>\n",
       "      <td>1</td>\n",
       "      <td>2015-10-13</td>\n",
       "      <td>239</td>\n",
       "    </tr>\n",
       "    <tr>\n",
       "      <th>4</th>\n",
       "      <td>1</td>\n",
       "      <td>2015-10-14</td>\n",
       "      <td>277</td>\n",
       "    </tr>\n",
       "  </tbody>\n",
       "</table>\n",
       "</div>"
      ],
      "text/plain": [
       "   shop_id        data  daypay\n",
       "0        1  2015-10-10     188\n",
       "1        1  2015-10-11     272\n",
       "2        1  2015-10-12     257\n",
       "3        1  2015-10-13     239\n",
       "4        1  2015-10-14     277"
      ]
     },
     "execution_count": 18,
     "metadata": {},
     "output_type": "execute_result"
    }
   ],
   "source": [
    "train.head()"
   ]
  },
  {
   "cell_type": "code",
   "execution_count": 19,
   "metadata": {
    "collapsed": false
   },
   "outputs": [],
   "source": [
    "train2=train[train.data>='2016-08-18']\n",
    "test2=test[test.data>='2016-08-31']"
   ]
  },
  {
   "cell_type": "code",
   "execution_count": 20,
   "metadata": {
    "collapsed": false
   },
   "outputs": [
    {
     "name": "stdout",
     "output_type": "stream",
     "text": [
      "1992\n",
      "1996\n",
      "1997\n"
     ]
    }
   ],
   "source": [
    "last1_week=train2[(train2.data<'2016-10-18')&(train2.data>='2016-10-11')]\n",
    "print last1_week['shop_id'].drop_duplicates().count()\n",
    "last1_week_feature=last1_week.groupby('shop_id')['daypay'].agg({'sum_l1w':np.sum,'mean_l1w':np.mean,'max_l1w':np.max,'min_l1w':np.min,'var_l1w':np.var,'median_l1w':np.median})\n",
    "last1_week_feature.to_csv('../tempfile/last1_week_feature.csv')\n",
    "last1_week_feature=pd.read_csv('../tempfile/last1_week_feature.csv')\n",
    "#last1_week_feature.head()\n",
    "\n",
    "last2_week=train2[(train2.data<'2016-10-18')&(train2.data>='2016-10-04')]\n",
    "print last2_week['shop_id'].drop_duplicates().count()\n",
    "last2_week_feature=last2_week.groupby('shop_id')['daypay'].agg({'sum_l2w':np.sum,'mean_l2w':np.mean,'max_l2w':np.max,'min_l2w':np.min,'var_l2w':np.var,'median_l2w':np.median})\n",
    "last2_week_feature.to_csv('../tempfile/last2_week_feature.csv')\n",
    "last2_week_feature=pd.read_csv('../tempfile/last2_week_feature.csv')\n",
    "#last2_week_feature.head()\n",
    "\n",
    "last1_month=train2[(train2.data<'2016-10-18')&(train2.data>='2016-09-18')]\n",
    "print last1_month['shop_id'].drop_duplicates().count()\n",
    "last1_month_feature=last1_month.groupby('shop_id')['daypay'].agg({'sum_l2m':np.sum,'mean_l2m':np.mean,'max_l2m':np.max,'min_l2m':np.min,'var_l2m':np.var,'median_l2m':np.median})\n",
    "last1_month_feature.to_csv('../tempfile/last1_month_feature.csv')\n",
    "last1_month_feature=pd.read_csv('../tempfile/last1_month_feature.csv')\n",
    "#last1_month_feature.head()"
   ]
  },
  {
   "cell_type": "code",
   "execution_count": 21,
   "metadata": {
    "collapsed": false
   },
   "outputs": [],
   "source": [
    "train_feature=shop_info.merge(last1_week_feature,on='shop_id',how='outer')\n",
    "train_feature=train_feature.merge(last2_week_feature,on='shop_id',how='outer')\n",
    "train_feature=train_feature.merge(last1_month_feature,on='shop_id',how='outer')"
   ]
  },
  {
   "cell_type": "code",
   "execution_count": 22,
   "metadata": {
    "collapsed": false
   },
   "outputs": [
    {
     "data": {
      "text/plain": [
       "(2000, 24)"
      ]
     },
     "execution_count": 22,
     "metadata": {},
     "output_type": "execute_result"
    }
   ],
   "source": [
    "train_feature.shape"
   ]
  },
  {
   "cell_type": "code",
   "execution_count": 23,
   "metadata": {
    "collapsed": false
   },
   "outputs": [
    {
     "name": "stdout",
     "output_type": "stream",
     "text": [
      "1998\n",
      "1999\n",
      "2000\n"
     ]
    }
   ],
   "source": [
    "last1_week=test2[test2.data>='2016-10-25']\n",
    "print last1_week['shop_id'].drop_duplicates().count()\n",
    "last1_week_feature=last1_week.groupby('shop_id')['daypay'].agg({'sum_l1w':np.sum,'mean_l1w':np.mean,'max_l1w':np.max,'min_l1w':np.min,'var_l1w':np.var,'median_l1w':np.median})\n",
    "last1_week_feature.to_csv('../tempfile/last1_week_feature_test.csv')\n",
    "last1_week_feature=pd.read_csv('../tempfile/last1_week_feature_test.csv')\n",
    "#last1_week_feature.head()\n",
    "\n",
    "last2_week=test2[test2.data>='2016-10-18']\n",
    "print last2_week['shop_id'].drop_duplicates().count()\n",
    "last2_week_feature=last2_week.groupby('shop_id')['daypay'].agg({'sum_l2w':np.sum,'mean_l2w':np.mean,'max_l2w':np.max,'min_l2w':np.min,'var_l2w':np.var,'median_l2w':np.median})\n",
    "last2_week_feature.to_csv('../tempfile/last2_week_feature_test.csv')\n",
    "last2_week_feature=pd.read_csv('../tempfile/last2_week_feature_test.csv')\n",
    "#last2_week_feature.head()\n",
    "\n",
    "last1_month=test2[test2.data>='2016-10-01']\n",
    "print last1_month['shop_id'].drop_duplicates().count()\n",
    "last1_month_feature=last1_month.groupby('shop_id')['daypay'].agg({'sum_l2m':np.sum,'mean_l2m':np.mean,'max_l2m':np.max,'min_l2m':np.min,'var_l2m':np.var,'median_l2m':np.median})\n",
    "last1_month_feature.to_csv('../tempfile/last1_month_feature_test.csv')\n",
    "last1_month_feature=pd.read_csv('../tempfile/last1_month_feature_test.csv')\n",
    "#last1_month_feature.head()"
   ]
  },
  {
   "cell_type": "code",
   "execution_count": 24,
   "metadata": {
    "collapsed": true
   },
   "outputs": [],
   "source": [
    "test_feature=shop_info.merge(last1_week_feature,on='shop_id',how='outer')\n",
    "test_feature=test_feature.merge(last2_week_feature,on='shop_id',how='outer')\n",
    "test_feature=test_feature.merge(last1_month_feature,on='shop_id',how='outer')"
   ]
  },
  {
   "cell_type": "code",
   "execution_count": 25,
   "metadata": {
    "collapsed": false
   },
   "outputs": [
    {
     "data": {
      "text/plain": [
       "(2000, 24)"
      ]
     },
     "execution_count": 25,
     "metadata": {},
     "output_type": "execute_result"
    }
   ],
   "source": [
    "test_feature.shape"
   ]
  },
  {
   "cell_type": "code",
   "execution_count": 26,
   "metadata": {
    "collapsed": true
   },
   "outputs": [],
   "source": [
    "train_label=pd.read_csv('../tempfile/train_label_test.csv',header=None)"
   ]
  },
  {
   "cell_type": "code",
   "execution_count": 27,
   "metadata": {
    "collapsed": false
   },
   "outputs": [
    {
     "data": {
      "text/plain": [
       "(2000, 14)"
      ]
     },
     "execution_count": 27,
     "metadata": {},
     "output_type": "execute_result"
    }
   ],
   "source": [
    "train_label.shape"
   ]
  },
  {
   "cell_type": "code",
   "execution_count": 28,
   "metadata": {
    "collapsed": false
   },
   "outputs": [],
   "source": [
    "from xgboost import XGBClassifier,XGBRegressor"
   ]
  },
  {
   "cell_type": "code",
   "execution_count": 29,
   "metadata": {
    "collapsed": true
   },
   "outputs": [],
   "source": [
    "clf=XGBRegressor()"
   ]
  },
  {
   "cell_type": "code",
   "execution_count": 30,
   "metadata": {
    "collapsed": true
   },
   "outputs": [],
   "source": [
    "test_label=train_label"
   ]
  },
  {
   "cell_type": "code",
   "execution_count": 31,
   "metadata": {
    "collapsed": false
   },
   "outputs": [
    {
     "data": {
      "text/html": [
       "<div>\n",
       "<table border=\"1\" class=\"dataframe\">\n",
       "  <thead>\n",
       "    <tr style=\"text-align: right;\">\n",
       "      <th></th>\n",
       "      <th>0</th>\n",
       "      <th>1</th>\n",
       "      <th>2</th>\n",
       "      <th>3</th>\n",
       "      <th>4</th>\n",
       "      <th>5</th>\n",
       "      <th>6</th>\n",
       "      <th>7</th>\n",
       "      <th>8</th>\n",
       "      <th>9</th>\n",
       "      <th>10</th>\n",
       "      <th>11</th>\n",
       "      <th>12</th>\n",
       "      <th>13</th>\n",
       "    </tr>\n",
       "  </thead>\n",
       "  <tbody>\n",
       "    <tr>\n",
       "      <th>0</th>\n",
       "      <td>244</td>\n",
       "      <td>177</td>\n",
       "      <td>207</td>\n",
       "      <td>230</td>\n",
       "      <td>202</td>\n",
       "      <td>243</td>\n",
       "      <td>216</td>\n",
       "      <td>255</td>\n",
       "      <td>172</td>\n",
       "      <td>226</td>\n",
       "      <td>257</td>\n",
       "      <td>251</td>\n",
       "      <td>281</td>\n",
       "      <td>180</td>\n",
       "    </tr>\n",
       "    <tr>\n",
       "      <th>1</th>\n",
       "      <td>0</td>\n",
       "      <td>0</td>\n",
       "      <td>0</td>\n",
       "      <td>61</td>\n",
       "      <td>155</td>\n",
       "      <td>143</td>\n",
       "      <td>78</td>\n",
       "      <td>82</td>\n",
       "      <td>97</td>\n",
       "      <td>83</td>\n",
       "      <td>96</td>\n",
       "      <td>96</td>\n",
       "      <td>115</td>\n",
       "      <td>80</td>\n",
       "    </tr>\n",
       "    <tr>\n",
       "      <th>2</th>\n",
       "      <td>59</td>\n",
       "      <td>71</td>\n",
       "      <td>88</td>\n",
       "      <td>103</td>\n",
       "      <td>127</td>\n",
       "      <td>125</td>\n",
       "      <td>47</td>\n",
       "      <td>80</td>\n",
       "      <td>61</td>\n",
       "      <td>68</td>\n",
       "      <td>103</td>\n",
       "      <td>102</td>\n",
       "      <td>104</td>\n",
       "      <td>67</td>\n",
       "    </tr>\n",
       "    <tr>\n",
       "      <th>3</th>\n",
       "      <td>90</td>\n",
       "      <td>112</td>\n",
       "      <td>59</td>\n",
       "      <td>80</td>\n",
       "      <td>211</td>\n",
       "      <td>221</td>\n",
       "      <td>81</td>\n",
       "      <td>90</td>\n",
       "      <td>104</td>\n",
       "      <td>55</td>\n",
       "      <td>110</td>\n",
       "      <td>215</td>\n",
       "      <td>196</td>\n",
       "      <td>115</td>\n",
       "    </tr>\n",
       "    <tr>\n",
       "      <th>4</th>\n",
       "      <td>201</td>\n",
       "      <td>210</td>\n",
       "      <td>221</td>\n",
       "      <td>187</td>\n",
       "      <td>161</td>\n",
       "      <td>240</td>\n",
       "      <td>454</td>\n",
       "      <td>302</td>\n",
       "      <td>1</td>\n",
       "      <td>0</td>\n",
       "      <td>215</td>\n",
       "      <td>203</td>\n",
       "      <td>291</td>\n",
       "      <td>239</td>\n",
       "    </tr>\n",
       "  </tbody>\n",
       "</table>\n",
       "</div>"
      ],
      "text/plain": [
       "    0    1    2    3    4    5    6    7    8    9    10   11   12   13\n",
       "0  244  177  207  230  202  243  216  255  172  226  257  251  281  180\n",
       "1    0    0    0   61  155  143   78   82   97   83   96   96  115   80\n",
       "2   59   71   88  103  127  125   47   80   61   68  103  102  104   67\n",
       "3   90  112   59   80  211  221   81   90  104   55  110  215  196  115\n",
       "4  201  210  221  187  161  240  454  302    1    0  215  203  291  239"
      ]
     },
     "execution_count": 31,
     "metadata": {},
     "output_type": "execute_result"
    }
   ],
   "source": [
    "train_label.head()"
   ]
  },
  {
   "cell_type": "code",
   "execution_count": 32,
   "metadata": {
    "collapsed": false
   },
   "outputs": [
    {
     "data": {
      "text/html": [
       "<div>\n",
       "<table border=\"1\" class=\"dataframe\">\n",
       "  <thead>\n",
       "    <tr style=\"text-align: right;\">\n",
       "      <th></th>\n",
       "      <th>0</th>\n",
       "      <th>1</th>\n",
       "      <th>2</th>\n",
       "      <th>3</th>\n",
       "      <th>4</th>\n",
       "      <th>5</th>\n",
       "      <th>6</th>\n",
       "      <th>7</th>\n",
       "      <th>8</th>\n",
       "      <th>9</th>\n",
       "      <th>10</th>\n",
       "      <th>11</th>\n",
       "      <th>12</th>\n",
       "      <th>13</th>\n",
       "    </tr>\n",
       "  </thead>\n",
       "  <tbody>\n",
       "    <tr>\n",
       "      <th>0</th>\n",
       "      <td>244</td>\n",
       "      <td>177</td>\n",
       "      <td>207</td>\n",
       "      <td>230</td>\n",
       "      <td>202</td>\n",
       "      <td>243</td>\n",
       "      <td>216</td>\n",
       "      <td>255</td>\n",
       "      <td>172</td>\n",
       "      <td>226</td>\n",
       "      <td>257</td>\n",
       "      <td>251</td>\n",
       "      <td>281</td>\n",
       "      <td>180</td>\n",
       "    </tr>\n",
       "    <tr>\n",
       "      <th>1</th>\n",
       "      <td>0</td>\n",
       "      <td>0</td>\n",
       "      <td>0</td>\n",
       "      <td>61</td>\n",
       "      <td>155</td>\n",
       "      <td>143</td>\n",
       "      <td>78</td>\n",
       "      <td>82</td>\n",
       "      <td>97</td>\n",
       "      <td>83</td>\n",
       "      <td>96</td>\n",
       "      <td>96</td>\n",
       "      <td>115</td>\n",
       "      <td>80</td>\n",
       "    </tr>\n",
       "    <tr>\n",
       "      <th>2</th>\n",
       "      <td>59</td>\n",
       "      <td>71</td>\n",
       "      <td>88</td>\n",
       "      <td>103</td>\n",
       "      <td>127</td>\n",
       "      <td>125</td>\n",
       "      <td>47</td>\n",
       "      <td>80</td>\n",
       "      <td>61</td>\n",
       "      <td>68</td>\n",
       "      <td>103</td>\n",
       "      <td>102</td>\n",
       "      <td>104</td>\n",
       "      <td>67</td>\n",
       "    </tr>\n",
       "    <tr>\n",
       "      <th>3</th>\n",
       "      <td>90</td>\n",
       "      <td>112</td>\n",
       "      <td>59</td>\n",
       "      <td>80</td>\n",
       "      <td>211</td>\n",
       "      <td>221</td>\n",
       "      <td>81</td>\n",
       "      <td>90</td>\n",
       "      <td>104</td>\n",
       "      <td>55</td>\n",
       "      <td>110</td>\n",
       "      <td>215</td>\n",
       "      <td>196</td>\n",
       "      <td>115</td>\n",
       "    </tr>\n",
       "    <tr>\n",
       "      <th>4</th>\n",
       "      <td>201</td>\n",
       "      <td>210</td>\n",
       "      <td>221</td>\n",
       "      <td>187</td>\n",
       "      <td>161</td>\n",
       "      <td>240</td>\n",
       "      <td>454</td>\n",
       "      <td>302</td>\n",
       "      <td>1</td>\n",
       "      <td>0</td>\n",
       "      <td>215</td>\n",
       "      <td>203</td>\n",
       "      <td>291</td>\n",
       "      <td>239</td>\n",
       "    </tr>\n",
       "  </tbody>\n",
       "</table>\n",
       "</div>"
      ],
      "text/plain": [
       "    0    1    2    3    4    5    6    7    8    9    10   11   12   13\n",
       "0  244  177  207  230  202  243  216  255  172  226  257  251  281  180\n",
       "1    0    0    0   61  155  143   78   82   97   83   96   96  115   80\n",
       "2   59   71   88  103  127  125   47   80   61   68  103  102  104   67\n",
       "3   90  112   59   80  211  221   81   90  104   55  110  215  196  115\n",
       "4  201  210  221  187  161  240  454  302    1    0  215  203  291  239"
      ]
     },
     "execution_count": 32,
     "metadata": {},
     "output_type": "execute_result"
    }
   ],
   "source": [
    "test_label.head()"
   ]
  },
  {
   "cell_type": "code",
   "execution_count": 33,
   "metadata": {
    "collapsed": false
   },
   "outputs": [
    {
     "name": "stdout",
     "output_type": "stream",
     "text": [
      "0 1 2 3 4 5 6 7 8 9 10 11 12 13\n"
     ]
    }
   ],
   "source": [
    "for i in range(0,14):\n",
    "    print i,\n",
    "    clf.fit(train_feature,train_label[i])\n",
    "    test_label[i]=clf.predict(test_feature)"
   ]
  },
  {
   "cell_type": "code",
   "execution_count": 34,
   "metadata": {
    "collapsed": false
   },
   "outputs": [],
   "source": [
    "test_label=test_label.astype(int)"
   ]
  },
  {
   "cell_type": "code",
   "execution_count": 35,
   "metadata": {
    "collapsed": false
   },
   "outputs": [],
   "source": [
    "test_label.index=[x for x in range(1,2001)]"
   ]
  },
  {
   "cell_type": "code",
   "execution_count": 36,
   "metadata": {
    "collapsed": false
   },
   "outputs": [],
   "source": [
    "test_label.to_csv('../output/pred_xgbR.csv',header=None)"
   ]
  },
  {
   "cell_type": "code",
   "execution_count": 37,
   "metadata": {
    "collapsed": true
   },
   "outputs": [],
   "source": [
    "feat_imp=pd.Series(clf.booster().get_fscore()).sort_values(ascending=False)\n",
    "feat_imp.plot(kind='bar', title='Feature Importances')"
   ]
  },
  {
   "cell_type": "code",
   "execution_count": 106,
   "metadata": {
    "collapsed": false
   },
   "outputs": [],
   "source": [
    "def cal_offline_score(pre_y, real_y):\n",
    "    \"\"\"Calculte the offline score according to the score function on Tianchi.\n",
    "\n",
    "    Args:\n",
    "        @pre_y: The prediction value\n",
    "        @real_y: The true value\n",
    "\n",
    "    Return:\n",
    "        @L: The offline score of the prediction.\n",
    "\n",
    "    Raise:\n",
    "        Error: When the shapes of prediction and real are different.\n",
    "    \"\"\"\n",
    "    score_sum = 0.\n",
    "    print pre_y.shape\n",
    "    assert pre_y.shape == real_y.shape\n",
    "    for shop_index in range(pre_y.shape[0]):\n",
    "        for day in range(pre_y.shape[1]):\n",
    "            c_it = float(pre_y[day][shop_index])\n",
    "            c_itg = float(real_y[day][shop_index])\n",
    "            # score = (pre_y[shop_index][day]-real_y[shop_index][day])/\\\n",
    "            # (pre_y[shop_index][day]+real_y[shop_index][day])\n",
    "            if c_itg + c_it == 0:\n",
    "                c_itg = 1.\n",
    "                c_it = 1.\n",
    "            score = abs((c_it - c_itg)/(c_itg + c_it))\n",
    "            score_sum = score_sum + score\n",
    "    nT = pre_y.shape[0]*pre_y.shape[1]\n",
    "    print nT\n",
    "    print score_sum\n",
    "    L = score_sum / nT\n",
    "    return L\n"
   ]
  },
  {
   "cell_type": "code",
   "execution_count": 92,
   "metadata": {
    "collapsed": false
   },
   "outputs": [],
   "source": [
    "best_label=pd.read_csv('../output/0843258.csv',header=None)"
   ]
  },
  {
   "cell_type": "code",
   "execution_count": 93,
   "metadata": {
    "collapsed": false
   },
   "outputs": [],
   "source": [
    "best_label.drop(0,axis=1,inplace=True)"
   ]
  },
  {
   "cell_type": "code",
   "execution_count": 94,
   "metadata": {
    "collapsed": true
   },
   "outputs": [],
   "source": [
    "best_label.columns=[x for x in range(14)]"
   ]
  },
  {
   "cell_type": "code",
   "execution_count": 122,
   "metadata": {
    "collapsed": false
   },
   "outputs": [],
   "source": [
    "test_label=pd.read_csv('../output/pred_xgb.csv',header=None)"
   ]
  },
  {
   "cell_type": "code",
   "execution_count": 123,
   "metadata": {
    "collapsed": true
   },
   "outputs": [],
   "source": [
    "test_label.drop(0,axis=1,inplace=True)"
   ]
  },
  {
   "cell_type": "code",
   "execution_count": 124,
   "metadata": {
    "collapsed": true
   },
   "outputs": [],
   "source": [
    "test_label.columns=[x for x in range(14)]"
   ]
  },
  {
   "cell_type": "code",
   "execution_count": 125,
   "metadata": {
    "collapsed": false
   },
   "outputs": [
    {
     "data": {
      "text/html": [
       "<div>\n",
       "<table border=\"1\" class=\"dataframe\">\n",
       "  <thead>\n",
       "    <tr style=\"text-align: right;\">\n",
       "      <th></th>\n",
       "      <th>0</th>\n",
       "      <th>1</th>\n",
       "      <th>2</th>\n",
       "      <th>3</th>\n",
       "      <th>4</th>\n",
       "      <th>5</th>\n",
       "      <th>6</th>\n",
       "      <th>7</th>\n",
       "      <th>8</th>\n",
       "      <th>9</th>\n",
       "      <th>10</th>\n",
       "      <th>11</th>\n",
       "      <th>12</th>\n",
       "      <th>13</th>\n",
       "    </tr>\n",
       "  </thead>\n",
       "  <tbody>\n",
       "    <tr>\n",
       "      <th>0</th>\n",
       "      <td>218</td>\n",
       "      <td>209</td>\n",
       "      <td>226</td>\n",
       "      <td>242</td>\n",
       "      <td>257</td>\n",
       "      <td>256</td>\n",
       "      <td>205</td>\n",
       "      <td>218</td>\n",
       "      <td>209</td>\n",
       "      <td>226</td>\n",
       "      <td>242</td>\n",
       "      <td>257</td>\n",
       "      <td>256</td>\n",
       "      <td>205</td>\n",
       "    </tr>\n",
       "    <tr>\n",
       "      <th>1</th>\n",
       "      <td>91</td>\n",
       "      <td>86</td>\n",
       "      <td>90</td>\n",
       "      <td>98</td>\n",
       "      <td>119</td>\n",
       "      <td>119</td>\n",
       "      <td>88</td>\n",
       "      <td>91</td>\n",
       "      <td>86</td>\n",
       "      <td>90</td>\n",
       "      <td>98</td>\n",
       "      <td>119</td>\n",
       "      <td>119</td>\n",
       "      <td>88</td>\n",
       "    </tr>\n",
       "    <tr>\n",
       "      <th>2</th>\n",
       "      <td>69</td>\n",
       "      <td>68</td>\n",
       "      <td>72</td>\n",
       "      <td>87</td>\n",
       "      <td>120</td>\n",
       "      <td>118</td>\n",
       "      <td>71</td>\n",
       "      <td>69</td>\n",
       "      <td>68</td>\n",
       "      <td>72</td>\n",
       "      <td>87</td>\n",
       "      <td>120</td>\n",
       "      <td>118</td>\n",
       "      <td>71</td>\n",
       "    </tr>\n",
       "    <tr>\n",
       "      <th>3</th>\n",
       "      <td>90</td>\n",
       "      <td>84</td>\n",
       "      <td>86</td>\n",
       "      <td>118</td>\n",
       "      <td>197</td>\n",
       "      <td>199</td>\n",
       "      <td>98</td>\n",
       "      <td>90</td>\n",
       "      <td>84</td>\n",
       "      <td>86</td>\n",
       "      <td>118</td>\n",
       "      <td>197</td>\n",
       "      <td>199</td>\n",
       "      <td>98</td>\n",
       "    </tr>\n",
       "    <tr>\n",
       "      <th>4</th>\n",
       "      <td>222</td>\n",
       "      <td>197</td>\n",
       "      <td>211</td>\n",
       "      <td>215</td>\n",
       "      <td>225</td>\n",
       "      <td>224</td>\n",
       "      <td>205</td>\n",
       "      <td>222</td>\n",
       "      <td>197</td>\n",
       "      <td>211</td>\n",
       "      <td>215</td>\n",
       "      <td>225</td>\n",
       "      <td>224</td>\n",
       "      <td>205</td>\n",
       "    </tr>\n",
       "  </tbody>\n",
       "</table>\n",
       "</div>"
      ],
      "text/plain": [
       "    0    1    2    3    4    5    6    7    8    9    10   11   12   13\n",
       "0  218  209  226  242  257  256  205  218  209  226  242  257  256  205\n",
       "1   91   86   90   98  119  119   88   91   86   90   98  119  119   88\n",
       "2   69   68   72   87  120  118   71   69   68   72   87  120  118   71\n",
       "3   90   84   86  118  197  199   98   90   84   86  118  197  199   98\n",
       "4  222  197  211  215  225  224  205  222  197  211  215  225  224  205"
      ]
     },
     "execution_count": 125,
     "metadata": {},
     "output_type": "execute_result"
    }
   ],
   "source": [
    "best_label.head()"
   ]
  },
  {
   "cell_type": "code",
   "execution_count": 126,
   "metadata": {
    "collapsed": false
   },
   "outputs": [
    {
     "data": {
      "text/html": [
       "<div>\n",
       "<table border=\"1\" class=\"dataframe\">\n",
       "  <thead>\n",
       "    <tr style=\"text-align: right;\">\n",
       "      <th></th>\n",
       "      <th>0</th>\n",
       "      <th>1</th>\n",
       "      <th>2</th>\n",
       "      <th>3</th>\n",
       "      <th>4</th>\n",
       "      <th>5</th>\n",
       "      <th>6</th>\n",
       "      <th>7</th>\n",
       "      <th>8</th>\n",
       "      <th>9</th>\n",
       "      <th>10</th>\n",
       "      <th>11</th>\n",
       "      <th>12</th>\n",
       "      <th>13</th>\n",
       "    </tr>\n",
       "  </thead>\n",
       "  <tbody>\n",
       "    <tr>\n",
       "      <th>0</th>\n",
       "      <td>241</td>\n",
       "      <td>220</td>\n",
       "      <td>225</td>\n",
       "      <td>242</td>\n",
       "      <td>244</td>\n",
       "      <td>267</td>\n",
       "      <td>246</td>\n",
       "      <td>241</td>\n",
       "      <td>214</td>\n",
       "      <td>233</td>\n",
       "      <td>257</td>\n",
       "      <td>257</td>\n",
       "      <td>249</td>\n",
       "      <td>223</td>\n",
       "    </tr>\n",
       "    <tr>\n",
       "      <th>1</th>\n",
       "      <td>89</td>\n",
       "      <td>75</td>\n",
       "      <td>82</td>\n",
       "      <td>82</td>\n",
       "      <td>123</td>\n",
       "      <td>122</td>\n",
       "      <td>93</td>\n",
       "      <td>86</td>\n",
       "      <td>82</td>\n",
       "      <td>83</td>\n",
       "      <td>86</td>\n",
       "      <td>113</td>\n",
       "      <td>134</td>\n",
       "      <td>85</td>\n",
       "    </tr>\n",
       "    <tr>\n",
       "      <th>2</th>\n",
       "      <td>76</td>\n",
       "      <td>83</td>\n",
       "      <td>82</td>\n",
       "      <td>92</td>\n",
       "      <td>99</td>\n",
       "      <td>103</td>\n",
       "      <td>86</td>\n",
       "      <td>86</td>\n",
       "      <td>73</td>\n",
       "      <td>80</td>\n",
       "      <td>97</td>\n",
       "      <td>101</td>\n",
       "      <td>100</td>\n",
       "      <td>86</td>\n",
       "    </tr>\n",
       "    <tr>\n",
       "      <th>3</th>\n",
       "      <td>98</td>\n",
       "      <td>85</td>\n",
       "      <td>97</td>\n",
       "      <td>112</td>\n",
       "      <td>159</td>\n",
       "      <td>161</td>\n",
       "      <td>105</td>\n",
       "      <td>103</td>\n",
       "      <td>87</td>\n",
       "      <td>87</td>\n",
       "      <td>118</td>\n",
       "      <td>161</td>\n",
       "      <td>152</td>\n",
       "      <td>102</td>\n",
       "    </tr>\n",
       "    <tr>\n",
       "      <th>4</th>\n",
       "      <td>231</td>\n",
       "      <td>187</td>\n",
       "      <td>223</td>\n",
       "      <td>210</td>\n",
       "      <td>241</td>\n",
       "      <td>207</td>\n",
       "      <td>249</td>\n",
       "      <td>245</td>\n",
       "      <td>182</td>\n",
       "      <td>184</td>\n",
       "      <td>245</td>\n",
       "      <td>244</td>\n",
       "      <td>219</td>\n",
       "      <td>245</td>\n",
       "    </tr>\n",
       "  </tbody>\n",
       "</table>\n",
       "</div>"
      ],
      "text/plain": [
       "    0    1    2    3    4    5    6    7    8    9    10   11   12   13\n",
       "0  241  220  225  242  244  267  246  241  214  233  257  257  249  223\n",
       "1   89   75   82   82  123  122   93   86   82   83   86  113  134   85\n",
       "2   76   83   82   92   99  103   86   86   73   80   97  101  100   86\n",
       "3   98   85   97  112  159  161  105  103   87   87  118  161  152  102\n",
       "4  231  187  223  210  241  207  249  245  182  184  245  244  219  245"
      ]
     },
     "execution_count": 126,
     "metadata": {},
     "output_type": "execute_result"
    }
   ],
   "source": [
    "test_label.head()"
   ]
  },
  {
   "cell_type": "code",
   "execution_count": 127,
   "metadata": {
    "collapsed": false
   },
   "outputs": [
    {
     "name": "stdout",
     "output_type": "stream",
     "text": [
      "(2000, 14)\n",
      "28000\n",
      "1604.11055523\n"
     ]
    },
    {
     "data": {
      "text/plain": [
       "0.05728966268677506"
      ]
     },
     "execution_count": 127,
     "metadata": {},
     "output_type": "execute_result"
    }
   ],
   "source": [
    "cal_offline_score(test_label,best_label)"
   ]
  },
  {
   "cell_type": "code",
   "execution_count": 130,
   "metadata": {
    "collapsed": false
   },
   "outputs": [],
   "source": [
    "col_label=best_label*0.8+test_label*0.2"
   ]
  },
  {
   "cell_type": "code",
   "execution_count": 140,
   "metadata": {
    "collapsed": false
   },
   "outputs": [],
   "source": [
    "for n in range(14):\n",
    "    col_label[n]=col_label[n].apply(lambda x :round(x))"
   ]
  },
  {
   "cell_type": "code",
   "execution_count": 142,
   "metadata": {
    "collapsed": true
   },
   "outputs": [],
   "source": [
    "col_label=col_label.astype(int)"
   ]
  },
  {
   "cell_type": "code",
   "execution_count": 144,
   "metadata": {
    "collapsed": false
   },
   "outputs": [],
   "source": [
    "col_label.index=[x for x in range(1,2001)]"
   ]
  },
  {
   "cell_type": "code",
   "execution_count": 146,
   "metadata": {
    "collapsed": false
   },
   "outputs": [],
   "source": [
    "col_label.to_csv('../output/col_label.csv',header=None)"
   ]
  },
  {
   "cell_type": "code",
   "execution_count": null,
   "metadata": {
    "collapsed": true
   },
   "outputs": [],
   "source": []
  }
 ],
 "metadata": {
  "kernelspec": {
   "display_name": "Python [Root]",
   "language": "python",
   "name": "Python [Root]"
  },
  "language_info": {
   "codemirror_mode": {
    "name": "ipython",
    "version": 2
   },
   "file_extension": ".py",
   "mimetype": "text/x-python",
   "name": "python",
   "nbconvert_exporter": "python",
   "pygments_lexer": "ipython2",
   "version": "2.7.12"
  }
 },
 "nbformat": 4,
 "nbformat_minor": 0
}
