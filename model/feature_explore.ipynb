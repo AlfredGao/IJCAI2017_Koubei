{
 "cells": [
  {
   "cell_type": "markdown",
   "metadata": {},
   "source": [
    "- 预测2016.11.01-2016.11.14客户流量.结果为非负整数。\n",
    "- 提供2015.07.01到2016.10.31（除去2015.12.12）的商家数据，用户支付行为数据以及用户浏览行为数据。\n",
    "- 提供数据的类型统一为string类型，提交预测的类型为整形。文件统一为utf-8编码，没有标题行，并以“,”分隔的csv格式。"
   ]
  },
  {
   "cell_type": "markdown",
   "metadata": {},
   "source": [
    "### 供参考的特征生成方法\n",
    "\n",
    "- centrality measures (mostly median) on sales of the same store/weekday/promo during last 3, 6, 12 and 24 months (some spread measures too but they were more prone to overfitting)\n",
    "- linear model (ridge) predictions for each store on weekday/promo/dayssince2000 on last 3 and 12 months to help the tree model extrapolate\n",
    "- number of schoolholidays this week, last week and next week\n",
    "- aggregates by store (avg sales per customer, promo sales ratio, saturday sales ratio, holiday sales ratio)\n",
    "- daycounters (before, during and after) for things like position within promo cycle, promo2 cycle, summerholidays and refurbishments\n",
    "\n",
    "External data that were posted to the forum by others (big thanks!):\n",
    "\n",
    "- maxtemp and precipmm from the weather files by state\n",
    "- summerholiday start dates\n"
   ]
  },
  {
   "cell_type": "code",
   "execution_count": 97,
   "metadata": {
    "collapsed": true
   },
   "outputs": [],
   "source": [
    "import pandas as pd\n",
    "import numpy as np\n",
    "%matplotlib inline"
   ]
  },
  {
   "cell_type": "code",
   "execution_count": 2,
   "metadata": {
    "collapsed": true
   },
   "outputs": [],
   "source": [
    "data_col=['user_id','shop_id','time_stamp']"
   ]
  },
  {
   "cell_type": "code",
   "execution_count": 3,
   "metadata": {
    "collapsed": true
   },
   "outputs": [],
   "source": [
    "shop_info_col=['shop_id','city_name','location_id','per_pay','score','comment_cnt','shop_level','cate_1_name','cate_2_name','cate_3_name']"
   ]
  },
  {
   "cell_type": "code",
   "execution_count": 4,
   "metadata": {
    "collapsed": false
   },
   "outputs": [
    {
     "data": {
      "text/html": [
       "<div>\n",
       "<table border=\"1\" class=\"dataframe\">\n",
       "  <thead>\n",
       "    <tr style=\"text-align: right;\">\n",
       "      <th></th>\n",
       "      <th>shop_id</th>\n",
       "      <th>city_name</th>\n",
       "      <th>location_id</th>\n",
       "      <th>per_pay</th>\n",
       "      <th>score</th>\n",
       "      <th>comment_cnt</th>\n",
       "      <th>shop_level</th>\n",
       "      <th>cate_1_name</th>\n",
       "      <th>cate_2_name</th>\n",
       "      <th>cate_3_name</th>\n",
       "    </tr>\n",
       "  </thead>\n",
       "  <tbody>\n",
       "    <tr>\n",
       "      <th>0</th>\n",
       "      <td>1</td>\n",
       "      <td>湖州</td>\n",
       "      <td>885</td>\n",
       "      <td>8</td>\n",
       "      <td>4.0</td>\n",
       "      <td>12.0</td>\n",
       "      <td>2</td>\n",
       "      <td>美食</td>\n",
       "      <td>休闲茶饮</td>\n",
       "      <td>饮品/甜点</td>\n",
       "    </tr>\n",
       "    <tr>\n",
       "      <th>1</th>\n",
       "      <td>2</td>\n",
       "      <td>哈尔滨</td>\n",
       "      <td>64</td>\n",
       "      <td>19</td>\n",
       "      <td>NaN</td>\n",
       "      <td>NaN</td>\n",
       "      <td>1</td>\n",
       "      <td>超市便利店</td>\n",
       "      <td>超市</td>\n",
       "      <td>NaN</td>\n",
       "    </tr>\n",
       "    <tr>\n",
       "      <th>2</th>\n",
       "      <td>3</td>\n",
       "      <td>南昌</td>\n",
       "      <td>774</td>\n",
       "      <td>5</td>\n",
       "      <td>3.0</td>\n",
       "      <td>2.0</td>\n",
       "      <td>0</td>\n",
       "      <td>美食</td>\n",
       "      <td>休闲茶饮</td>\n",
       "      <td>奶茶</td>\n",
       "    </tr>\n",
       "    <tr>\n",
       "      <th>3</th>\n",
       "      <td>4</td>\n",
       "      <td>天津</td>\n",
       "      <td>380</td>\n",
       "      <td>18</td>\n",
       "      <td>NaN</td>\n",
       "      <td>NaN</td>\n",
       "      <td>1</td>\n",
       "      <td>超市便利店</td>\n",
       "      <td>超市</td>\n",
       "      <td>NaN</td>\n",
       "    </tr>\n",
       "    <tr>\n",
       "      <th>4</th>\n",
       "      <td>5</td>\n",
       "      <td>杭州</td>\n",
       "      <td>263</td>\n",
       "      <td>2</td>\n",
       "      <td>2.0</td>\n",
       "      <td>2.0</td>\n",
       "      <td>0</td>\n",
       "      <td>美食</td>\n",
       "      <td>休闲食品</td>\n",
       "      <td>生鲜水果</td>\n",
       "    </tr>\n",
       "  </tbody>\n",
       "</table>\n",
       "</div>"
      ],
      "text/plain": [
       "   shop_id city_name  location_id  per_pay  score  comment_cnt  shop_level  \\\n",
       "0        1        湖州          885        8    4.0         12.0           2   \n",
       "1        2       哈尔滨           64       19    NaN          NaN           1   \n",
       "2        3        南昌          774        5    3.0          2.0           0   \n",
       "3        4        天津          380       18    NaN          NaN           1   \n",
       "4        5        杭州          263        2    2.0          2.0           0   \n",
       "\n",
       "  cate_1_name cate_2_name cate_3_name  \n",
       "0          美食        休闲茶饮       饮品/甜点  \n",
       "1       超市便利店          超市         NaN  \n",
       "2          美食        休闲茶饮          奶茶  \n",
       "3       超市便利店          超市         NaN  \n",
       "4          美食        休闲食品        生鲜水果  "
      ]
     },
     "execution_count": 4,
     "metadata": {},
     "output_type": "execute_result"
    }
   ],
   "source": [
    "shop_info=pd.read_csv('../dataset/shop_info.txt',header=None)\n",
    "shop_info.columns=shop_info_col\n",
    "\n",
    "shop_info.head()"
   ]
  },
  {
   "cell_type": "code",
   "execution_count": 5,
   "metadata": {
    "collapsed": false
   },
   "outputs": [],
   "source": [
    "#data_view=pd.read_csv('../dataset/user_view.txt',header=None)\n",
    "\n",
    "#data_view.columns=data_col"
   ]
  },
  {
   "cell_type": "code",
   "execution_count": 48,
   "metadata": {
    "collapsed": false
   },
   "outputs": [
    {
     "data": {
      "text/html": [
       "<div>\n",
       "<table border=\"1\" class=\"dataframe\">\n",
       "  <thead>\n",
       "    <tr style=\"text-align: right;\">\n",
       "      <th></th>\n",
       "      <th>user_id</th>\n",
       "      <th>shop_id</th>\n",
       "      <th>time_stamp</th>\n",
       "    </tr>\n",
       "  </thead>\n",
       "  <tbody>\n",
       "    <tr>\n",
       "      <th>0</th>\n",
       "      <td>22127870</td>\n",
       "      <td>1862</td>\n",
       "      <td>2015-12-25 17:00:00</td>\n",
       "    </tr>\n",
       "    <tr>\n",
       "      <th>1</th>\n",
       "      <td>3434231</td>\n",
       "      <td>1862</td>\n",
       "      <td>2016-10-05 11:00:00</td>\n",
       "    </tr>\n",
       "    <tr>\n",
       "      <th>2</th>\n",
       "      <td>16955285</td>\n",
       "      <td>1862</td>\n",
       "      <td>2016-02-10 15:00:00</td>\n",
       "    </tr>\n",
       "    <tr>\n",
       "      <th>3</th>\n",
       "      <td>13799128</td>\n",
       "      <td>1862</td>\n",
       "      <td>2016-01-13 14:00:00</td>\n",
       "    </tr>\n",
       "    <tr>\n",
       "      <th>4</th>\n",
       "      <td>13799128</td>\n",
       "      <td>1862</td>\n",
       "      <td>2016-07-05 12:00:00</td>\n",
       "    </tr>\n",
       "    <tr>\n",
       "      <th>5</th>\n",
       "      <td>20244878</td>\n",
       "      <td>1862</td>\n",
       "      <td>2016-09-17 15:00:00</td>\n",
       "    </tr>\n",
       "    <tr>\n",
       "      <th>6</th>\n",
       "      <td>20244878</td>\n",
       "      <td>1862</td>\n",
       "      <td>2016-05-29 16:00:00</td>\n",
       "    </tr>\n",
       "    <tr>\n",
       "      <th>7</th>\n",
       "      <td>438444</td>\n",
       "      <td>1862</td>\n",
       "      <td>2016-02-22 17:00:00</td>\n",
       "    </tr>\n",
       "    <tr>\n",
       "      <th>8</th>\n",
       "      <td>22003193</td>\n",
       "      <td>1862</td>\n",
       "      <td>2016-08-07 15:00:00</td>\n",
       "    </tr>\n",
       "    <tr>\n",
       "      <th>9</th>\n",
       "      <td>20244878</td>\n",
       "      <td>1862</td>\n",
       "      <td>2016-04-17 16:00:00</td>\n",
       "    </tr>\n",
       "    <tr>\n",
       "      <th>10</th>\n",
       "      <td>9034387</td>\n",
       "      <td>1862</td>\n",
       "      <td>2016-03-18 19:00:00</td>\n",
       "    </tr>\n",
       "    <tr>\n",
       "      <th>11</th>\n",
       "      <td>13211167</td>\n",
       "      <td>1862</td>\n",
       "      <td>2016-09-29 20:00:00</td>\n",
       "    </tr>\n",
       "    <tr>\n",
       "      <th>12</th>\n",
       "      <td>18329438</td>\n",
       "      <td>1862</td>\n",
       "      <td>2016-03-20 18:00:00</td>\n",
       "    </tr>\n",
       "    <tr>\n",
       "      <th>13</th>\n",
       "      <td>20244878</td>\n",
       "      <td>1862</td>\n",
       "      <td>2016-06-26 15:00:00</td>\n",
       "    </tr>\n",
       "    <tr>\n",
       "      <th>14</th>\n",
       "      <td>10303270</td>\n",
       "      <td>1862</td>\n",
       "      <td>2016-01-01 18:00:00</td>\n",
       "    </tr>\n",
       "  </tbody>\n",
       "</table>\n",
       "</div>"
      ],
      "text/plain": [
       "     user_id  shop_id           time_stamp\n",
       "0   22127870     1862  2015-12-25 17:00:00\n",
       "1    3434231     1862  2016-10-05 11:00:00\n",
       "2   16955285     1862  2016-02-10 15:00:00\n",
       "3   13799128     1862  2016-01-13 14:00:00\n",
       "4   13799128     1862  2016-07-05 12:00:00\n",
       "5   20244878     1862  2016-09-17 15:00:00\n",
       "6   20244878     1862  2016-05-29 16:00:00\n",
       "7     438444     1862  2016-02-22 17:00:00\n",
       "8   22003193     1862  2016-08-07 15:00:00\n",
       "9   20244878     1862  2016-04-17 16:00:00\n",
       "10   9034387     1862  2016-03-18 19:00:00\n",
       "11  13211167     1862  2016-09-29 20:00:00\n",
       "12  18329438     1862  2016-03-20 18:00:00\n",
       "13  20244878     1862  2016-06-26 15:00:00\n",
       "14  10303270     1862  2016-01-01 18:00:00"
      ]
     },
     "execution_count": 48,
     "metadata": {},
     "output_type": "execute_result"
    }
   ],
   "source": [
    "data_pay=pd.read_csv('../dataset/user_pay.txt',header=None)\n",
    "data_pay.columns=data_col\n",
    "\n",
    "data_pay.head(15)"
   ]
  },
  {
   "cell_type": "code",
   "execution_count": 49,
   "metadata": {
    "collapsed": true
   },
   "outputs": [],
   "source": [
    "data_pay.time_stamp=pd.to_datetime(data_pay.time_stamp, format='%Y/%m/%d %H:%M:%S')"
   ]
  },
  {
   "cell_type": "code",
   "execution_count": 50,
   "metadata": {
    "collapsed": false
   },
   "outputs": [],
   "source": [
    "data_pay['data']=data_pay.time_stamp.dt.date\n",
    "#data_pay['day']=data_pay.time_stamp.dt.day\n",
    "#data_pay['dayofweek']=data_pay.time_stamp.dt.dayofweek\n",
    "#data_pay['month']=data_pay.time_stamp.dt.month"
   ]
  },
  {
   "cell_type": "code",
   "execution_count": 51,
   "metadata": {
    "collapsed": false
   },
   "outputs": [
    {
     "data": {
      "text/html": [
       "<div>\n",
       "<table border=\"1\" class=\"dataframe\">\n",
       "  <thead>\n",
       "    <tr style=\"text-align: right;\">\n",
       "      <th></th>\n",
       "      <th>user_id</th>\n",
       "      <th>shop_id</th>\n",
       "      <th>time_stamp</th>\n",
       "      <th>data</th>\n",
       "    </tr>\n",
       "  </thead>\n",
       "  <tbody>\n",
       "    <tr>\n",
       "      <th>0</th>\n",
       "      <td>22127870</td>\n",
       "      <td>1862</td>\n",
       "      <td>2015-12-25 17:00:00</td>\n",
       "      <td>2015-12-25</td>\n",
       "    </tr>\n",
       "    <tr>\n",
       "      <th>1</th>\n",
       "      <td>3434231</td>\n",
       "      <td>1862</td>\n",
       "      <td>2016-10-05 11:00:00</td>\n",
       "      <td>2016-10-05</td>\n",
       "    </tr>\n",
       "    <tr>\n",
       "      <th>2</th>\n",
       "      <td>16955285</td>\n",
       "      <td>1862</td>\n",
       "      <td>2016-02-10 15:00:00</td>\n",
       "      <td>2016-02-10</td>\n",
       "    </tr>\n",
       "    <tr>\n",
       "      <th>3</th>\n",
       "      <td>13799128</td>\n",
       "      <td>1862</td>\n",
       "      <td>2016-01-13 14:00:00</td>\n",
       "      <td>2016-01-13</td>\n",
       "    </tr>\n",
       "    <tr>\n",
       "      <th>4</th>\n",
       "      <td>13799128</td>\n",
       "      <td>1862</td>\n",
       "      <td>2016-07-05 12:00:00</td>\n",
       "      <td>2016-07-05</td>\n",
       "    </tr>\n",
       "  </tbody>\n",
       "</table>\n",
       "</div>"
      ],
      "text/plain": [
       "    user_id  shop_id          time_stamp        data\n",
       "0  22127870     1862 2015-12-25 17:00:00  2015-12-25\n",
       "1   3434231     1862 2016-10-05 11:00:00  2016-10-05\n",
       "2  16955285     1862 2016-02-10 15:00:00  2016-02-10\n",
       "3  13799128     1862 2016-01-13 14:00:00  2016-01-13\n",
       "4  13799128     1862 2016-07-05 12:00:00  2016-07-05"
      ]
     },
     "execution_count": 51,
     "metadata": {},
     "output_type": "execute_result"
    }
   ],
   "source": [
    "data_pay.head()"
   ]
  },
  {
   "cell_type": "code",
   "execution_count": 52,
   "metadata": {
    "collapsed": true
   },
   "outputs": [],
   "source": [
    "feature_daypay=pd.DataFrame(data_pay.groupby(['shop_id','data'])['user_id'].count())\n",
    "feature_daypay.rename(columns={'user_id':'daypay'},inplace=True)\n",
    "feature_daypay.to_csv('../tempfile/feature_daypay.csv')\n",
    "feature_daypay=pd.read_csv('../tempfile/feature_daypay.csv')"
   ]
  },
  {
   "cell_type": "code",
   "execution_count": 53,
   "metadata": {
    "collapsed": false
   },
   "outputs": [
    {
     "data": {
      "text/html": [
       "<div>\n",
       "<table border=\"1\" class=\"dataframe\">\n",
       "  <thead>\n",
       "    <tr style=\"text-align: right;\">\n",
       "      <th></th>\n",
       "      <th>shop_id</th>\n",
       "      <th>data</th>\n",
       "      <th>daypay</th>\n",
       "    </tr>\n",
       "  </thead>\n",
       "  <tbody>\n",
       "    <tr>\n",
       "      <th>0</th>\n",
       "      <td>1</td>\n",
       "      <td>2015-10-10</td>\n",
       "      <td>188</td>\n",
       "    </tr>\n",
       "    <tr>\n",
       "      <th>1</th>\n",
       "      <td>1</td>\n",
       "      <td>2015-10-11</td>\n",
       "      <td>272</td>\n",
       "    </tr>\n",
       "    <tr>\n",
       "      <th>2</th>\n",
       "      <td>1</td>\n",
       "      <td>2015-10-12</td>\n",
       "      <td>257</td>\n",
       "    </tr>\n",
       "    <tr>\n",
       "      <th>3</th>\n",
       "      <td>1</td>\n",
       "      <td>2015-10-13</td>\n",
       "      <td>239</td>\n",
       "    </tr>\n",
       "    <tr>\n",
       "      <th>4</th>\n",
       "      <td>1</td>\n",
       "      <td>2015-10-14</td>\n",
       "      <td>277</td>\n",
       "    </tr>\n",
       "  </tbody>\n",
       "</table>\n",
       "</div>"
      ],
      "text/plain": [
       "   shop_id        data  daypay\n",
       "0        1  2015-10-10     188\n",
       "1        1  2015-10-11     272\n",
       "2        1  2015-10-12     257\n",
       "3        1  2015-10-13     239\n",
       "4        1  2015-10-14     277"
      ]
     },
     "execution_count": 53,
     "metadata": {},
     "output_type": "execute_result"
    }
   ],
   "source": [
    "feature_daypay.head()"
   ]
  },
  {
   "cell_type": "code",
   "execution_count": 44,
   "metadata": {
    "collapsed": true
   },
   "outputs": [],
   "source": [
    "# 14天的预测值 \n",
    "# 分割数据集\n",
    "\n",
    "#  2016-10-18  2016-10-31\n",
    "#  2016-10-3  2016-10-17\n",
    "\n",
    "# 过去一周平均业绩\n",
    "#  过去一个月平均业绩\n",
    "# 过去3个月平均业绩\n",
    "# 过去半年平均业绩\n",
    "# 过去一年平均业绩\n",
    "# 去年同期平均业绩\n",
    "\n",
    "## 多数店记录从2016-06-22 开始"
   ]
  },
  {
   "cell_type": "code",
   "execution_count": 54,
   "metadata": {
    "collapsed": true
   },
   "outputs": [],
   "source": [
    "train=feature_daypay[feature_daypay.data<'2016-10-18']\n",
    "\n",
    "test=feature_daypay[feature_daypay.data>='2016-10-18']"
   ]
  },
  {
   "cell_type": "code",
   "execution_count": 55,
   "metadata": {
    "collapsed": false
   },
   "outputs": [
    {
     "data": {
      "text/plain": [
       "(571375, 3)"
      ]
     },
     "execution_count": 55,
     "metadata": {},
     "output_type": "execute_result"
    }
   ],
   "source": [
    "train.shape"
   ]
  },
  {
   "cell_type": "code",
   "execution_count": 56,
   "metadata": {
    "collapsed": false
   },
   "outputs": [
    {
     "data": {
      "text/plain": [
       "(27900, 3)"
      ]
     },
     "execution_count": 56,
     "metadata": {},
     "output_type": "execute_result"
    }
   ],
   "source": [
    "test.shape"
   ]
  },
  {
   "cell_type": "code",
   "execution_count": 102,
   "metadata": {
    "collapsed": true
   },
   "outputs": [],
   "source": [
    "## 这部分处理，意在观察记录的开始时间，从而对构造特征的时间起点提供参考意见"
   ]
  },
  {
   "cell_type": "code",
   "execution_count": 81,
   "metadata": {
    "collapsed": false
   },
   "outputs": [],
   "source": [
    "record_begin=[]\n",
    "for number in range(1,2001):\n",
    "    #print train[train.shop_id==number]['data'].min()\n",
    "    record_begin.append(train[train.shop_id==number]['data'].min())"
   ]
  },
  {
   "cell_type": "code",
   "execution_count": 82,
   "metadata": {
    "collapsed": false
   },
   "outputs": [],
   "source": [
    "record_begin=pd.DataFrame(record_begin,index=range(1,2001),columns=['record_begin'])\n",
    "\n",
    "record_begin.record_begin=pd.to_datetime(record_begin.record_begin, format='%Y/%m/%d')\n",
    "\n",
    "record_begin['count']=1"
   ]
  },
  {
   "cell_type": "code",
   "execution_count": 94,
   "metadata": {
    "collapsed": false
   },
   "outputs": [],
   "source": [
    "record_count=record_begin.groupby('record_begin')['count'].sum()"
   ]
  },
  {
   "cell_type": "code",
   "execution_count": 98,
   "metadata": {
    "collapsed": false
   },
   "outputs": [
    {
     "data": {
      "text/plain": [
       "<matplotlib.axes._subplots.AxesSubplot at 0x7f76cfe0b450>"
      ]
     },
     "execution_count": 98,
     "metadata": {},
     "output_type": "execute_result"
    },
    {
     "data": {
      "image/png": "[encoded data removed]",
      "text/plain": [
       "<matplotlib.figure.Figure at 0x7f76c40b5290>"
      ]
     },
     "metadata": {},
     "output_type": "display_data"
    }
   ],
   "source": [
    "record_count.plot()"
   ]
  },
  {
   "cell_type": "code",
   "execution_count": 101,
   "metadata": {
    "collapsed": false
   },
   "outputs": [
    {
     "data": {
      "text/plain": [
       "record_begin\n",
       "2015-06-26     5\n",
       "2015-06-27     8\n",
       "2015-06-28    13\n",
       "2015-06-29    26\n",
       "2015-06-30     5\n",
       "2015-07-01     4\n",
       "2015-07-02    24\n",
       "2015-07-03     5\n",
       "2015-07-06    28\n",
       "2015-07-07    40\n",
       "2015-07-08    39\n",
       "2015-07-09    20\n",
       "2015-07-10    27\n",
       "2015-07-11     9\n",
       "2015-07-12    11\n",
       "2015-07-13    33\n",
       "2015-07-14     7\n",
       "2015-07-15     8\n",
       "2015-07-16    10\n",
       "2015-07-17     8\n",
       "2015-07-19     1\n",
       "2015-07-21     2\n",
       "2015-07-22     3\n",
       "2015-07-27     1\n",
       "2015-07-28     1\n",
       "2015-07-30     2\n",
       "2015-07-31     1\n",
       "2015-08-01     5\n",
       "2015-08-02     1\n",
       "2015-08-03     6\n",
       "              ..\n",
       "2016-07-07     4\n",
       "2016-07-08     4\n",
       "2016-07-09     3\n",
       "2016-07-10     1\n",
       "2016-07-11     6\n",
       "2016-07-12     4\n",
       "2016-07-13     3\n",
       "2016-07-14     6\n",
       "2016-07-15     7\n",
       "2016-07-16     2\n",
       "2016-07-18     7\n",
       "2016-07-19    15\n",
       "2016-07-20     7\n",
       "2016-07-21     6\n",
       "2016-07-22     5\n",
       "2016-07-23     2\n",
       "2016-07-24     1\n",
       "2016-07-25     1\n",
       "2016-07-26     4\n",
       "2016-07-27     5\n",
       "2016-07-28    14\n",
       "2016-07-29     3\n",
       "2016-07-30     1\n",
       "2016-07-31     1\n",
       "2016-08-01     1\n",
       "2016-08-02     5\n",
       "2016-08-03     4\n",
       "2016-08-04    10\n",
       "2016-08-05     3\n",
       "2016-08-06     1\n",
       "Name: count, dtype: int64"
      ]
     },
     "execution_count": 101,
     "metadata": {},
     "output_type": "execute_result"
    }
   ],
   "source": [
    "record_count"
   ]
  },
  {
   "cell_type": "code",
   "execution_count": 103,
   "metadata": {
    "collapsed": true
   },
   "outputs": [],
   "source": [
    "## 通过观察可知，8月6号开始，能保证每家店铺都有记录。\n",
    "### 我们的第一组特征，从此开始"
   ]
  },
  {
   "cell_type": "code",
   "execution_count": 118,
   "metadata": {
    "collapsed": false
   },
   "outputs": [
    {
     "data": {
      "text/html": [
       "<div>\n",
       "<table border=\"1\" class=\"dataframe\">\n",
       "  <thead>\n",
       "    <tr style=\"text-align: right;\">\n",
       "      <th></th>\n",
       "      <th>shop_id</th>\n",
       "      <th>data</th>\n",
       "      <th>daypay</th>\n",
       "    </tr>\n",
       "  </thead>\n",
       "  <tbody>\n",
       "    <tr>\n",
       "      <th>0</th>\n",
       "      <td>1</td>\n",
       "      <td>2015-10-10</td>\n",
       "      <td>188</td>\n",
       "    </tr>\n",
       "    <tr>\n",
       "      <th>1</th>\n",
       "      <td>1</td>\n",
       "      <td>2015-10-11</td>\n",
       "      <td>272</td>\n",
       "    </tr>\n",
       "    <tr>\n",
       "      <th>2</th>\n",
       "      <td>1</td>\n",
       "      <td>2015-10-12</td>\n",
       "      <td>257</td>\n",
       "    </tr>\n",
       "    <tr>\n",
       "      <th>3</th>\n",
       "      <td>1</td>\n",
       "      <td>2015-10-13</td>\n",
       "      <td>239</td>\n",
       "    </tr>\n",
       "    <tr>\n",
       "      <th>4</th>\n",
       "      <td>1</td>\n",
       "      <td>2015-10-14</td>\n",
       "      <td>277</td>\n",
       "    </tr>\n",
       "  </tbody>\n",
       "</table>\n",
       "</div>"
      ],
      "text/plain": [
       "   shop_id        data  daypay\n",
       "0        1  2015-10-10     188\n",
       "1        1  2015-10-11     272\n",
       "2        1  2015-10-12     257\n",
       "3        1  2015-10-13     239\n",
       "4        1  2015-10-14     277"
      ]
     },
     "execution_count": 118,
     "metadata": {},
     "output_type": "execute_result"
    }
   ],
   "source": [
    "train.head()"
   ]
  },
  {
   "cell_type": "code",
   "execution_count": 107,
   "metadata": {
    "collapsed": true
   },
   "outputs": [],
   "source": [
    "train2=train[train.data>='2016-08-18']"
   ]
  },
  {
   "cell_type": "code",
   "execution_count": 110,
   "metadata": {
    "collapsed": true
   },
   "outputs": [],
   "source": [
    "# 14天的预测值 \n",
    "# 分割数据集\n",
    "\n",
    "#  2016-08-18 2016-10-18 2个月\n",
    "\n",
    "\n",
    "# 过去一周平均业绩\n",
    "# 过去两周平均业绩\n",
    "# 过去一个月平均业绩\n",
    "# 过去2个月平均业绩\n",
    "\n",
    "## 多数店记录从2016-06-22 开始"
   ]
  },
  {
   "cell_type": "code",
   "execution_count": 143,
   "metadata": {
    "collapsed": false
   },
   "outputs": [
    {
     "name": "stdout",
     "output_type": "stream",
     "text": [
      "1992\n"
     ]
    },
    {
     "data": {
      "text/html": [
       "<div>\n",
       "<table border=\"1\" class=\"dataframe\">\n",
       "  <thead>\n",
       "    <tr style=\"text-align: right;\">\n",
       "      <th></th>\n",
       "      <th>shop_id</th>\n",
       "      <th>min</th>\n",
       "      <th>max</th>\n",
       "      <th>sum</th>\n",
       "      <th>median</th>\n",
       "      <th>var</th>\n",
       "      <th>mean</th>\n",
       "    </tr>\n",
       "  </thead>\n",
       "  <tbody>\n",
       "    <tr>\n",
       "      <th>0</th>\n",
       "      <td>1</td>\n",
       "      <td>207</td>\n",
       "      <td>264</td>\n",
       "      <td>1700</td>\n",
       "      <td>244.0</td>\n",
       "      <td>423.476190</td>\n",
       "      <td>242.857143</td>\n",
       "    </tr>\n",
       "    <tr>\n",
       "      <th>1</th>\n",
       "      <td>3</td>\n",
       "      <td>56</td>\n",
       "      <td>119</td>\n",
       "      <td>549</td>\n",
       "      <td>71.0</td>\n",
       "      <td>484.619048</td>\n",
       "      <td>78.428571</td>\n",
       "    </tr>\n",
       "    <tr>\n",
       "      <th>2</th>\n",
       "      <td>4</td>\n",
       "      <td>71</td>\n",
       "      <td>200</td>\n",
       "      <td>845</td>\n",
       "      <td>113.0</td>\n",
       "      <td>2164.904762</td>\n",
       "      <td>120.714286</td>\n",
       "    </tr>\n",
       "    <tr>\n",
       "      <th>3</th>\n",
       "      <td>5</td>\n",
       "      <td>185</td>\n",
       "      <td>274</td>\n",
       "      <td>1536</td>\n",
       "      <td>218.0</td>\n",
       "      <td>826.285714</td>\n",
       "      <td>219.428571</td>\n",
       "    </tr>\n",
       "    <tr>\n",
       "      <th>4</th>\n",
       "      <td>6</td>\n",
       "      <td>83</td>\n",
       "      <td>137</td>\n",
       "      <td>717</td>\n",
       "      <td>91.0</td>\n",
       "      <td>445.285714</td>\n",
       "      <td>102.428571</td>\n",
       "    </tr>\n",
       "  </tbody>\n",
       "</table>\n",
       "</div>"
      ],
      "text/plain": [
       "   shop_id  min  max   sum  median          var        mean\n",
       "0        1  207  264  1700   244.0   423.476190  242.857143\n",
       "1        3   56  119   549    71.0   484.619048   78.428571\n",
       "2        4   71  200   845   113.0  2164.904762  120.714286\n",
       "3        5  185  274  1536   218.0   826.285714  219.428571\n",
       "4        6   83  137   717    91.0   445.285714  102.428571"
      ]
     },
     "execution_count": 143,
     "metadata": {},
     "output_type": "execute_result"
    }
   ],
   "source": [
    "last1_week=train2[(train2.data<'2016-10-18')&(train2.data>='2016-10-11')]\n",
    "print last1_week['shop_id'].drop_duplicates().count()\n",
    "last1_week_feature=last1_week.groupby('shop_id')['daypay'].agg({'sum':np.sum,'mean':np.mean,'max':np.max,'min':np.min,'var':np.var,'median':np.median})\n",
    "last1_week_feature.to_csv('../tempfile/last1_week_feature.csv')\n",
    "last1_week_feature=pd.read_csv('../tempfile/last1_week_feature.csv')\n",
    "last1_week_feature.head()"
   ]
  },
  {
   "cell_type": "code",
   "execution_count": 144,
   "metadata": {
    "collapsed": false
   },
   "outputs": [
    {
     "name": "stdout",
     "output_type": "stream",
     "text": [
      "1996\n"
     ]
    },
    {
     "data": {
      "text/html": [
       "<div>\n",
       "<table border=\"1\" class=\"dataframe\">\n",
       "  <thead>\n",
       "    <tr style=\"text-align: right;\">\n",
       "      <th></th>\n",
       "      <th>shop_id</th>\n",
       "      <th>min</th>\n",
       "      <th>max</th>\n",
       "      <th>sum</th>\n",
       "      <th>median</th>\n",
       "      <th>var</th>\n",
       "      <th>mean</th>\n",
       "    </tr>\n",
       "  </thead>\n",
       "  <tbody>\n",
       "    <tr>\n",
       "      <th>0</th>\n",
       "      <td>1</td>\n",
       "      <td>207</td>\n",
       "      <td>277</td>\n",
       "      <td>3468</td>\n",
       "      <td>250.5</td>\n",
       "      <td>322.219780</td>\n",
       "      <td>247.714286</td>\n",
       "    </tr>\n",
       "    <tr>\n",
       "      <th>1</th>\n",
       "      <td>2</td>\n",
       "      <td>34</td>\n",
       "      <td>125</td>\n",
       "      <td>483</td>\n",
       "      <td>108.0</td>\n",
       "      <td>1363.300000</td>\n",
       "      <td>96.600000</td>\n",
       "    </tr>\n",
       "    <tr>\n",
       "      <th>2</th>\n",
       "      <td>3</td>\n",
       "      <td>56</td>\n",
       "      <td>121</td>\n",
       "      <td>1158</td>\n",
       "      <td>76.0</td>\n",
       "      <td>394.219780</td>\n",
       "      <td>82.714286</td>\n",
       "    </tr>\n",
       "    <tr>\n",
       "      <th>3</th>\n",
       "      <td>4</td>\n",
       "      <td>71</td>\n",
       "      <td>200</td>\n",
       "      <td>1610</td>\n",
       "      <td>112.5</td>\n",
       "      <td>1271.538462</td>\n",
       "      <td>115.000000</td>\n",
       "    </tr>\n",
       "    <tr>\n",
       "      <th>4</th>\n",
       "      <td>5</td>\n",
       "      <td>2</td>\n",
       "      <td>312</td>\n",
       "      <td>2678</td>\n",
       "      <td>214.5</td>\n",
       "      <td>9788.681319</td>\n",
       "      <td>191.285714</td>\n",
       "    </tr>\n",
       "  </tbody>\n",
       "</table>\n",
       "</div>"
      ],
      "text/plain": [
       "   shop_id  min  max   sum  median          var        mean\n",
       "0        1  207  277  3468   250.5   322.219780  247.714286\n",
       "1        2   34  125   483   108.0  1363.300000   96.600000\n",
       "2        3   56  121  1158    76.0   394.219780   82.714286\n",
       "3        4   71  200  1610   112.5  1271.538462  115.000000\n",
       "4        5    2  312  2678   214.5  9788.681319  191.285714"
      ]
     },
     "execution_count": 144,
     "metadata": {},
     "output_type": "execute_result"
    }
   ],
   "source": [
    "last2_week=train2[(train2.data<'2016-10-18')&(train2.data>='2016-10-04')]\n",
    "print last2_week['shop_id'].drop_duplicates().count()\n",
    "last2_week_feature=last2_week.groupby('shop_id')['daypay'].agg({'sum':np.sum,'mean':np.mean,'max':np.max,'min':np.min,'var':np.var,'median':np.median})\n",
    "last2_week_feature.to_csv('../tempfile/last2_week_feature.csv')\n",
    "last2_week_feature=pd.read_csv('../tempfile/last2_week_feature.csv')\n",
    "last2_week_feature.head()"
   ]
  },
  {
   "cell_type": "code",
   "execution_count": 145,
   "metadata": {
    "collapsed": false
   },
   "outputs": [
    {
     "name": "stdout",
     "output_type": "stream",
     "text": [
      "1997\n"
     ]
    },
    {
     "data": {
      "text/html": [
       "<div>\n",
       "<table border=\"1\" class=\"dataframe\">\n",
       "  <thead>\n",
       "    <tr style=\"text-align: right;\">\n",
       "      <th></th>\n",
       "      <th>shop_id</th>\n",
       "      <th>min</th>\n",
       "      <th>max</th>\n",
       "      <th>sum</th>\n",
       "      <th>median</th>\n",
       "      <th>var</th>\n",
       "      <th>mean</th>\n",
       "    </tr>\n",
       "  </thead>\n",
       "  <tbody>\n",
       "    <tr>\n",
       "      <th>0</th>\n",
       "      <td>1</td>\n",
       "      <td>164</td>\n",
       "      <td>309</td>\n",
       "      <td>7195</td>\n",
       "      <td>239.5</td>\n",
       "      <td>1083.316092</td>\n",
       "      <td>239.833333</td>\n",
       "    </tr>\n",
       "    <tr>\n",
       "      <th>1</th>\n",
       "      <td>2</td>\n",
       "      <td>34</td>\n",
       "      <td>161</td>\n",
       "      <td>1904</td>\n",
       "      <td>82.0</td>\n",
       "      <td>766.333333</td>\n",
       "      <td>90.666667</td>\n",
       "    </tr>\n",
       "    <tr>\n",
       "      <th>2</th>\n",
       "      <td>3</td>\n",
       "      <td>55</td>\n",
       "      <td>152</td>\n",
       "      <td>2549</td>\n",
       "      <td>78.0</td>\n",
       "      <td>656.309195</td>\n",
       "      <td>84.966667</td>\n",
       "    </tr>\n",
       "    <tr>\n",
       "      <th>3</th>\n",
       "      <td>4</td>\n",
       "      <td>71</td>\n",
       "      <td>203</td>\n",
       "      <td>3502</td>\n",
       "      <td>106.5</td>\n",
       "      <td>1315.581609</td>\n",
       "      <td>116.733333</td>\n",
       "    </tr>\n",
       "    <tr>\n",
       "      <th>4</th>\n",
       "      <td>5</td>\n",
       "      <td>1</td>\n",
       "      <td>312</td>\n",
       "      <td>5385</td>\n",
       "      <td>203.0</td>\n",
       "      <td>10352.810345</td>\n",
       "      <td>179.500000</td>\n",
       "    </tr>\n",
       "  </tbody>\n",
       "</table>\n",
       "</div>"
      ],
      "text/plain": [
       "   shop_id  min  max   sum  median           var        mean\n",
       "0        1  164  309  7195   239.5   1083.316092  239.833333\n",
       "1        2   34  161  1904    82.0    766.333333   90.666667\n",
       "2        3   55  152  2549    78.0    656.309195   84.966667\n",
       "3        4   71  203  3502   106.5   1315.581609  116.733333\n",
       "4        5    1  312  5385   203.0  10352.810345  179.500000"
      ]
     },
     "execution_count": 145,
     "metadata": {},
     "output_type": "execute_result"
    }
   ],
   "source": [
    "last1_month=train2[(train2.data<'2016-10-18')&(train2.data>='2016-09-18')]\n",
    "print last1_month['shop_id'].drop_duplicates().count()\n",
    "last1_month_feature=last1_month.groupby('shop_id')['daypay'].agg({'sum':np.sum,'mean':np.mean,'max':np.max,'min':np.min,'var':np.var,'median':np.median})\n",
    "last1_month_feature.to_csv('../tempfile/last1_month_feature.csv')\n",
    "last1_month_feature=pd.read_csv('../tempfile/last1_month_feature.csv')\n",
    "last1_month_feature.head()"
   ]
  },
  {
   "cell_type": "code",
   "execution_count": null,
   "metadata": {
    "collapsed": true
   },
   "outputs": [],
   "source": []
  }
 ],
 "metadata": {
  "kernelspec": {
   "display_name": "Python [Root]",
   "language": "python",
   "name": "Python [Root]"
  },
  "language_info": {
   "codemirror_mode": {
    "name": "ipython",
    "version": 2
   },
   "file_extension": ".py",
   "mimetype": "text/x-python",
   "name": "python",
   "nbconvert_exporter": "python",
   "pygments_lexer": "ipython2",
   "version": "2.7.12"
  }
 },
 "nbformat": 4,
 "nbformat_minor": 0
}
